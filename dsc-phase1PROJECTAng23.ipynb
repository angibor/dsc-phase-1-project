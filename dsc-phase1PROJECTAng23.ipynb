{
 "cells": [
  {
   "cell_type": "markdown",
   "metadata": {},
   "source": [
    "### Final Project Submission\n",
    "\n",
    "\n",
    "* Student name:     Angella Bor\n",
    "* Student pace:     part time \n",
    "* Scheduled project review date/time: 24th /07/2023 \n",
    "* Instructor name:  Stella Waithera\n",
    "* Blog post URL\n"
   ]
  },
  {
   "cell_type": "markdown",
   "metadata": {},
   "source": [
    "## PREDICTING BOX OFFICE REVENUE FOR MICROSOFT'S NEW MOVIE STUDIO PREDICTING\n",
    "Authors: Rose Bor"
   ]
  },
  {
   "cell_type": "markdown",
   "metadata": {},
   "source": [
    " ### 1.0 Overview\n",
    "\n",
    "The analysis aims to provide valuable insights for Microsoft's new movie studio, focusing on predicting box office revenue and understanding factors that contribute to movie success. By exploring genres, studios, profitability, and other key attributes, the project aims to guide decision-making and improve the studio's chances of producing successful films in a competitive entertainment industry."
   ]
  },
  {
   "cell_type": "markdown",
   "metadata": {},
   "source": [
    "### 1.2.Business Problem\n",
    "\n",
    "Observing the trend of major corporations producing original video content, Microsoft aims to join the endeavor by establishing its own movie studio. However, lacking expertise in film production, we have been tasked with researching the current top-performing genres in the box office. Our mission is to analyze successful film categories and translate our findings into practical insights, empowering the head of Microsoft's new movie studio to make informed decisions regarding the types of films they should venture into."
   ]
  },
  {
   "cell_type": "markdown",
   "metadata": {},
   "source": [
    "### 1.3. Business Objective:\n",
    "\n",
    "The goal of this project is to analyze movie data and provide insights to guide decision-making for a new movie studio under Microsoft. We aim to understand factors influencing box office revenue and predict movie success."
   ]
  },
  {
   "cell_type": "markdown",
   "metadata": {},
   "source": [
    "### 1.4.Sources of Data\n",
    "\n",
    "To perform the analysis, we collected data from various sources to gain comprehensive insights into the movie industry. The data was obtained from the following websites:\n",
    "\n",
    "imdb.title.basics- zippedData/imdb.title.basics.csv.gz\n",
    "\n",
    "imdb.title.ratings- zippedData/imdb.title.ratings.csv.gz\n",
    "\n",
    "bom.movie_gross- zippedData/bom.movie_gross.csv.gz"
   ]
  },
  {
   "cell_type": "markdown",
   "metadata": {},
   "source": [
    "### 2.0 Data Understanding\n",
    "\n",
    "Data Source:The data comes from three datasets, 'title basics','title ratings and 'bom Movie gross'.\n",
    "Representation: 'movies_df' contains movie attributes such as title, genre, release year, IMDb rating, number of votes, and box office gross earnings.\n",
    "Sample:It includes various movies with diverse genres and box office performance, encompassing past and present films.\n",
    "Target Variable:The 'Total Worldwide Gross' represents the total box office earnings worldwide for each movie, serving as the target variable for analysis.\n",
    "\n",
    "\n"
   ]
  },
  {
   "cell_type": "code",
   "execution_count": 151,
   "metadata": {},
   "outputs": [],
   "source": [
    "# Import relevant libraries\n",
    "import pandas as pd\n",
    "import numpy as np\n",
    "import matplotlib.pyplot as plt\n",
    "import seaborn as sns\n",
    "%matplotlib inline\n"
   ]
  },
  {
   "cell_type": "markdown",
   "metadata": {},
   "source": [
    "#### 2.1.Title Basics Movie"
   ]
  },
  {
   "cell_type": "code",
   "execution_count": 194,
   "metadata": {
    "scrolled": true
   },
   "outputs": [
    {
     "data": {
      "text/html": [
       "<div>\n",
       "<style scoped>\n",
       "    .dataframe tbody tr th:only-of-type {\n",
       "        vertical-align: middle;\n",
       "    }\n",
       "\n",
       "    .dataframe tbody tr th {\n",
       "        vertical-align: top;\n",
       "    }\n",
       "\n",
       "    .dataframe thead th {\n",
       "        text-align: right;\n",
       "    }\n",
       "</style>\n",
       "<table border=\"1\" class=\"dataframe\">\n",
       "  <thead>\n",
       "    <tr style=\"text-align: right;\">\n",
       "      <th></th>\n",
       "      <th>tconst</th>\n",
       "      <th>primary_title</th>\n",
       "      <th>original_title</th>\n",
       "      <th>start_year</th>\n",
       "      <th>runtime_minutes</th>\n",
       "      <th>genres</th>\n",
       "    </tr>\n",
       "  </thead>\n",
       "  <tbody>\n",
       "    <tr>\n",
       "      <th>0</th>\n",
       "      <td>tt0063540</td>\n",
       "      <td>Sunghursh</td>\n",
       "      <td>Sunghursh</td>\n",
       "      <td>2013</td>\n",
       "      <td>175.0</td>\n",
       "      <td>Action,Crime,Drama</td>\n",
       "    </tr>\n",
       "    <tr>\n",
       "      <th>1</th>\n",
       "      <td>tt0066787</td>\n",
       "      <td>One Day Before the Rainy Season</td>\n",
       "      <td>Ashad Ka Ek Din</td>\n",
       "      <td>2019</td>\n",
       "      <td>114.0</td>\n",
       "      <td>Biography,Drama</td>\n",
       "    </tr>\n",
       "    <tr>\n",
       "      <th>2</th>\n",
       "      <td>tt0069049</td>\n",
       "      <td>The Other Side of the Wind</td>\n",
       "      <td>The Other Side of the Wind</td>\n",
       "      <td>2018</td>\n",
       "      <td>122.0</td>\n",
       "      <td>Drama</td>\n",
       "    </tr>\n",
       "    <tr>\n",
       "      <th>3</th>\n",
       "      <td>tt0069204</td>\n",
       "      <td>Sabse Bada Sukh</td>\n",
       "      <td>Sabse Bada Sukh</td>\n",
       "      <td>2018</td>\n",
       "      <td>NaN</td>\n",
       "      <td>Comedy,Drama</td>\n",
       "    </tr>\n",
       "    <tr>\n",
       "      <th>4</th>\n",
       "      <td>tt0100275</td>\n",
       "      <td>The Wandering Soap Opera</td>\n",
       "      <td>La Telenovela Errante</td>\n",
       "      <td>2017</td>\n",
       "      <td>80.0</td>\n",
       "      <td>Comedy,Drama,Fantasy</td>\n",
       "    </tr>\n",
       "    <tr>\n",
       "      <th>...</th>\n",
       "      <td>...</td>\n",
       "      <td>...</td>\n",
       "      <td>...</td>\n",
       "      <td>...</td>\n",
       "      <td>...</td>\n",
       "      <td>...</td>\n",
       "    </tr>\n",
       "    <tr>\n",
       "      <th>146139</th>\n",
       "      <td>tt9916538</td>\n",
       "      <td>Kuambil Lagi Hatiku</td>\n",
       "      <td>Kuambil Lagi Hatiku</td>\n",
       "      <td>2019</td>\n",
       "      <td>123.0</td>\n",
       "      <td>Drama</td>\n",
       "    </tr>\n",
       "    <tr>\n",
       "      <th>146140</th>\n",
       "      <td>tt9916622</td>\n",
       "      <td>Rodolpho Teóphilo - O Legado de um Pioneiro</td>\n",
       "      <td>Rodolpho Teóphilo - O Legado de um Pioneiro</td>\n",
       "      <td>2015</td>\n",
       "      <td>NaN</td>\n",
       "      <td>Documentary</td>\n",
       "    </tr>\n",
       "    <tr>\n",
       "      <th>146141</th>\n",
       "      <td>tt9916706</td>\n",
       "      <td>Dankyavar Danka</td>\n",
       "      <td>Dankyavar Danka</td>\n",
       "      <td>2013</td>\n",
       "      <td>NaN</td>\n",
       "      <td>Comedy</td>\n",
       "    </tr>\n",
       "    <tr>\n",
       "      <th>146142</th>\n",
       "      <td>tt9916730</td>\n",
       "      <td>6 Gunn</td>\n",
       "      <td>6 Gunn</td>\n",
       "      <td>2017</td>\n",
       "      <td>116.0</td>\n",
       "      <td>NaN</td>\n",
       "    </tr>\n",
       "    <tr>\n",
       "      <th>146143</th>\n",
       "      <td>tt9916754</td>\n",
       "      <td>Chico Albuquerque - Revelações</td>\n",
       "      <td>Chico Albuquerque - Revelações</td>\n",
       "      <td>2013</td>\n",
       "      <td>NaN</td>\n",
       "      <td>Documentary</td>\n",
       "    </tr>\n",
       "  </tbody>\n",
       "</table>\n",
       "<p>146144 rows × 6 columns</p>\n",
       "</div>"
      ],
      "text/plain": [
       "           tconst                                primary_title  \\\n",
       "0       tt0063540                                    Sunghursh   \n",
       "1       tt0066787              One Day Before the Rainy Season   \n",
       "2       tt0069049                   The Other Side of the Wind   \n",
       "3       tt0069204                              Sabse Bada Sukh   \n",
       "4       tt0100275                     The Wandering Soap Opera   \n",
       "...           ...                                          ...   \n",
       "146139  tt9916538                          Kuambil Lagi Hatiku   \n",
       "146140  tt9916622  Rodolpho Teóphilo - O Legado de um Pioneiro   \n",
       "146141  tt9916706                              Dankyavar Danka   \n",
       "146142  tt9916730                                       6 Gunn   \n",
       "146143  tt9916754               Chico Albuquerque - Revelações   \n",
       "\n",
       "                                     original_title  start_year  \\\n",
       "0                                         Sunghursh        2013   \n",
       "1                                   Ashad Ka Ek Din        2019   \n",
       "2                        The Other Side of the Wind        2018   \n",
       "3                                   Sabse Bada Sukh        2018   \n",
       "4                             La Telenovela Errante        2017   \n",
       "...                                             ...         ...   \n",
       "146139                          Kuambil Lagi Hatiku        2019   \n",
       "146140  Rodolpho Teóphilo - O Legado de um Pioneiro        2015   \n",
       "146141                              Dankyavar Danka        2013   \n",
       "146142                                       6 Gunn        2017   \n",
       "146143               Chico Albuquerque - Revelações        2013   \n",
       "\n",
       "        runtime_minutes                genres  \n",
       "0                 175.0    Action,Crime,Drama  \n",
       "1                 114.0       Biography,Drama  \n",
       "2                 122.0                 Drama  \n",
       "3                   NaN          Comedy,Drama  \n",
       "4                  80.0  Comedy,Drama,Fantasy  \n",
       "...                 ...                   ...  \n",
       "146139            123.0                 Drama  \n",
       "146140              NaN           Documentary  \n",
       "146141              NaN                Comedy  \n",
       "146142            116.0                   NaN  \n",
       "146143              NaN           Documentary  \n",
       "\n",
       "[146144 rows x 6 columns]"
      ]
     },
     "execution_count": 194,
     "metadata": {},
     "output_type": "execute_result"
    }
   ],
   "source": [
    "# load csv file - imdb.title.basics.csv.gz and view it\n",
    "df = pd.read_csv('zippedData/imdb.title.basics.csv.gz')\n",
    "\n",
    "\n",
    "df\n"
   ]
  },
  {
   "cell_type": "code",
   "execution_count": 15,
   "metadata": {},
   "outputs": [
    {
     "data": {
      "text/plain": [
       "(146144, 6)"
      ]
     },
     "execution_count": 15,
     "metadata": {},
     "output_type": "execute_result"
    }
   ],
   "source": [
    "#display the number of rows and columns\n",
    "df.shape"
   ]
  },
  {
   "cell_type": "code",
   "execution_count": 16,
   "metadata": {},
   "outputs": [
    {
     "name": "stdout",
     "output_type": "stream",
     "text": [
      "<class 'pandas.core.frame.DataFrame'>\n",
      "RangeIndex: 146144 entries, 0 to 146143\n",
      "Data columns (total 6 columns):\n",
      " #   Column           Non-Null Count   Dtype  \n",
      "---  ------           --------------   -----  \n",
      " 0   tconst           146144 non-null  object \n",
      " 1   primary_title    146144 non-null  object \n",
      " 2   original_title   146123 non-null  object \n",
      " 3   start_year       146144 non-null  int64  \n",
      " 4   runtime_minutes  114405 non-null  float64\n",
      " 5   genres           140736 non-null  object \n",
      "dtypes: float64(1), int64(1), object(4)\n",
      "memory usage: 6.7+ MB\n"
     ]
    }
   ],
   "source": [
    "# get the info of the dataset\n",
    "df.info()"
   ]
  },
  {
   "cell_type": "code",
   "execution_count": 17,
   "metadata": {
    "scrolled": true
   },
   "outputs": [
    {
     "data": {
      "text/html": [
       "<div>\n",
       "<style scoped>\n",
       "    .dataframe tbody tr th:only-of-type {\n",
       "        vertical-align: middle;\n",
       "    }\n",
       "\n",
       "    .dataframe tbody tr th {\n",
       "        vertical-align: top;\n",
       "    }\n",
       "\n",
       "    .dataframe thead th {\n",
       "        text-align: right;\n",
       "    }\n",
       "</style>\n",
       "<table border=\"1\" class=\"dataframe\">\n",
       "  <thead>\n",
       "    <tr style=\"text-align: right;\">\n",
       "      <th></th>\n",
       "      <th>start_year</th>\n",
       "      <th>runtime_minutes</th>\n",
       "    </tr>\n",
       "  </thead>\n",
       "  <tbody>\n",
       "    <tr>\n",
       "      <th>count</th>\n",
       "      <td>146144.000000</td>\n",
       "      <td>114405.000000</td>\n",
       "    </tr>\n",
       "    <tr>\n",
       "      <th>mean</th>\n",
       "      <td>2014.621798</td>\n",
       "      <td>86.187247</td>\n",
       "    </tr>\n",
       "    <tr>\n",
       "      <th>std</th>\n",
       "      <td>2.733583</td>\n",
       "      <td>166.360590</td>\n",
       "    </tr>\n",
       "    <tr>\n",
       "      <th>min</th>\n",
       "      <td>2010.000000</td>\n",
       "      <td>1.000000</td>\n",
       "    </tr>\n",
       "    <tr>\n",
       "      <th>25%</th>\n",
       "      <td>2012.000000</td>\n",
       "      <td>70.000000</td>\n",
       "    </tr>\n",
       "    <tr>\n",
       "      <th>50%</th>\n",
       "      <td>2015.000000</td>\n",
       "      <td>87.000000</td>\n",
       "    </tr>\n",
       "    <tr>\n",
       "      <th>75%</th>\n",
       "      <td>2017.000000</td>\n",
       "      <td>99.000000</td>\n",
       "    </tr>\n",
       "    <tr>\n",
       "      <th>max</th>\n",
       "      <td>2115.000000</td>\n",
       "      <td>51420.000000</td>\n",
       "    </tr>\n",
       "  </tbody>\n",
       "</table>\n",
       "</div>"
      ],
      "text/plain": [
       "          start_year  runtime_minutes\n",
       "count  146144.000000    114405.000000\n",
       "mean     2014.621798        86.187247\n",
       "std         2.733583       166.360590\n",
       "min      2010.000000         1.000000\n",
       "25%      2012.000000        70.000000\n",
       "50%      2015.000000        87.000000\n",
       "75%      2017.000000        99.000000\n",
       "max      2115.000000     51420.000000"
      ]
     },
     "execution_count": 17,
     "metadata": {},
     "output_type": "execute_result"
    }
   ],
   "source": [
    "#get the statistical summary\n",
    "df.describe()"
   ]
  },
  {
   "cell_type": "code",
   "execution_count": 18,
   "metadata": {},
   "outputs": [
    {
     "data": {
      "text/plain": [
       "876864"
      ]
     },
     "execution_count": 18,
     "metadata": {},
     "output_type": "execute_result"
    }
   ],
   "source": [
    "# get the number of elements in the dataset\n",
    "df.size"
   ]
  },
  {
   "cell_type": "code",
   "execution_count": 20,
   "metadata": {
    "scrolled": true
   },
   "outputs": [
    {
     "data": {
      "text/plain": [
       "tconst              object\n",
       "primary_title       object\n",
       "original_title      object\n",
       "start_year           int64\n",
       "runtime_minutes    float64\n",
       "genres              object\n",
       "dtype: object"
      ]
     },
     "execution_count": 20,
     "metadata": {},
     "output_type": "execute_result"
    }
   ],
   "source": [
    "#get the data types of each column\n",
    "df.dtypes"
   ]
  },
  {
   "cell_type": "code",
   "execution_count": 324,
   "metadata": {
    "scrolled": true
   },
   "outputs": [
    {
     "data": {
      "text/plain": [
       "tconst                 0\n",
       "primary_title          0\n",
       "original_title        21\n",
       "start_year             0\n",
       "runtime_minutes    31739\n",
       "genres              5408\n",
       "dtype: int64"
      ]
     },
     "execution_count": 324,
     "metadata": {},
     "output_type": "execute_result"
    }
   ],
   "source": [
    "# Check for null or missing values\n",
    "df_movies.isnull().sum()"
   ]
  },
  {
   "cell_type": "markdown",
   "metadata": {},
   "source": [
    "#### 2.2.IMDB Title Ratings"
   ]
  },
  {
   "cell_type": "code",
   "execution_count": 23,
   "metadata": {},
   "outputs": [
    {
     "data": {
      "text/html": [
       "<div>\n",
       "<style scoped>\n",
       "    .dataframe tbody tr th:only-of-type {\n",
       "        vertical-align: middle;\n",
       "    }\n",
       "\n",
       "    .dataframe tbody tr th {\n",
       "        vertical-align: top;\n",
       "    }\n",
       "\n",
       "    .dataframe thead th {\n",
       "        text-align: right;\n",
       "    }\n",
       "</style>\n",
       "<table border=\"1\" class=\"dataframe\">\n",
       "  <thead>\n",
       "    <tr style=\"text-align: right;\">\n",
       "      <th></th>\n",
       "      <th>tconst</th>\n",
       "      <th>averagerating</th>\n",
       "      <th>numvotes</th>\n",
       "    </tr>\n",
       "  </thead>\n",
       "  <tbody>\n",
       "    <tr>\n",
       "      <th>0</th>\n",
       "      <td>tt10356526</td>\n",
       "      <td>8.3</td>\n",
       "      <td>31</td>\n",
       "    </tr>\n",
       "    <tr>\n",
       "      <th>1</th>\n",
       "      <td>tt10384606</td>\n",
       "      <td>8.9</td>\n",
       "      <td>559</td>\n",
       "    </tr>\n",
       "    <tr>\n",
       "      <th>2</th>\n",
       "      <td>tt1042974</td>\n",
       "      <td>6.4</td>\n",
       "      <td>20</td>\n",
       "    </tr>\n",
       "    <tr>\n",
       "      <th>3</th>\n",
       "      <td>tt1043726</td>\n",
       "      <td>4.2</td>\n",
       "      <td>50352</td>\n",
       "    </tr>\n",
       "    <tr>\n",
       "      <th>4</th>\n",
       "      <td>tt1060240</td>\n",
       "      <td>6.5</td>\n",
       "      <td>21</td>\n",
       "    </tr>\n",
       "  </tbody>\n",
       "</table>\n",
       "</div>"
      ],
      "text/plain": [
       "       tconst  averagerating  numvotes\n",
       "0  tt10356526            8.3        31\n",
       "1  tt10384606            8.9       559\n",
       "2   tt1042974            6.4        20\n",
       "3   tt1043726            4.2     50352\n",
       "4   tt1060240            6.5        21"
      ]
     },
     "execution_count": 23,
     "metadata": {},
     "output_type": "execute_result"
    }
   ],
   "source": [
    "# Load the compressed CSV file 'imdb.title.ratings.csv.gz' and display the first 5 rows\n",
    "title_ratings = df=pd.read_csv('zippedData/imdb.title.ratings.csv.gz')\n",
    "title_ratings.head(5)"
   ]
  },
  {
   "cell_type": "code",
   "execution_count": 24,
   "metadata": {},
   "outputs": [
    {
     "data": {
      "text/plain": [
       "(73856, 3)"
      ]
     },
     "execution_count": 24,
     "metadata": {},
     "output_type": "execute_result"
    }
   ],
   "source": [
    "# display number of rows and columns\n",
    "df.shape"
   ]
  },
  {
   "cell_type": "code",
   "execution_count": 25,
   "metadata": {
    "scrolled": true
   },
   "outputs": [
    {
     "name": "stdout",
     "output_type": "stream",
     "text": [
      "<class 'pandas.core.frame.DataFrame'>\n",
      "RangeIndex: 73856 entries, 0 to 73855\n",
      "Data columns (total 3 columns):\n",
      " #   Column         Non-Null Count  Dtype  \n",
      "---  ------         --------------  -----  \n",
      " 0   tconst         73856 non-null  object \n",
      " 1   averagerating  73856 non-null  float64\n",
      " 2   numvotes       73856 non-null  int64  \n",
      "dtypes: float64(1), int64(1), object(1)\n",
      "memory usage: 1.7+ MB\n"
     ]
    }
   ],
   "source": [
    "#get the information of the datasets column null details and type of data\n",
    "df.info()"
   ]
  },
  {
   "cell_type": "code",
   "execution_count": 26,
   "metadata": {},
   "outputs": [
    {
     "data": {
      "text/html": [
       "<div>\n",
       "<style scoped>\n",
       "    .dataframe tbody tr th:only-of-type {\n",
       "        vertical-align: middle;\n",
       "    }\n",
       "\n",
       "    .dataframe tbody tr th {\n",
       "        vertical-align: top;\n",
       "    }\n",
       "\n",
       "    .dataframe thead th {\n",
       "        text-align: right;\n",
       "    }\n",
       "</style>\n",
       "<table border=\"1\" class=\"dataframe\">\n",
       "  <thead>\n",
       "    <tr style=\"text-align: right;\">\n",
       "      <th></th>\n",
       "      <th>averagerating</th>\n",
       "      <th>numvotes</th>\n",
       "    </tr>\n",
       "  </thead>\n",
       "  <tbody>\n",
       "    <tr>\n",
       "      <th>count</th>\n",
       "      <td>73856.000000</td>\n",
       "      <td>7.385600e+04</td>\n",
       "    </tr>\n",
       "    <tr>\n",
       "      <th>mean</th>\n",
       "      <td>6.332729</td>\n",
       "      <td>3.523662e+03</td>\n",
       "    </tr>\n",
       "    <tr>\n",
       "      <th>std</th>\n",
       "      <td>1.474978</td>\n",
       "      <td>3.029402e+04</td>\n",
       "    </tr>\n",
       "    <tr>\n",
       "      <th>min</th>\n",
       "      <td>1.000000</td>\n",
       "      <td>5.000000e+00</td>\n",
       "    </tr>\n",
       "    <tr>\n",
       "      <th>25%</th>\n",
       "      <td>5.500000</td>\n",
       "      <td>1.400000e+01</td>\n",
       "    </tr>\n",
       "    <tr>\n",
       "      <th>50%</th>\n",
       "      <td>6.500000</td>\n",
       "      <td>4.900000e+01</td>\n",
       "    </tr>\n",
       "    <tr>\n",
       "      <th>75%</th>\n",
       "      <td>7.400000</td>\n",
       "      <td>2.820000e+02</td>\n",
       "    </tr>\n",
       "    <tr>\n",
       "      <th>max</th>\n",
       "      <td>10.000000</td>\n",
       "      <td>1.841066e+06</td>\n",
       "    </tr>\n",
       "  </tbody>\n",
       "</table>\n",
       "</div>"
      ],
      "text/plain": [
       "       averagerating      numvotes\n",
       "count   73856.000000  7.385600e+04\n",
       "mean        6.332729  3.523662e+03\n",
       "std         1.474978  3.029402e+04\n",
       "min         1.000000  5.000000e+00\n",
       "25%         5.500000  1.400000e+01\n",
       "50%         6.500000  4.900000e+01\n",
       "75%         7.400000  2.820000e+02\n",
       "max        10.000000  1.841066e+06"
      ]
     },
     "execution_count": 26,
     "metadata": {},
     "output_type": "execute_result"
    }
   ],
   "source": [
    "#Get the statistical detail of the dataset\n",
    "df.describe()"
   ]
  },
  {
   "cell_type": "code",
   "execution_count": 27,
   "metadata": {},
   "outputs": [
    {
     "data": {
      "text/plain": [
       "221568"
      ]
     },
     "execution_count": 27,
     "metadata": {},
     "output_type": "execute_result"
    }
   ],
   "source": [
    "#get the number of elements in the dataset\n",
    "df.size"
   ]
  },
  {
   "cell_type": "code",
   "execution_count": 28,
   "metadata": {},
   "outputs": [
    {
     "data": {
      "text/plain": [
       "tconst            object\n",
       "averagerating    float64\n",
       "numvotes           int64\n",
       "dtype: object"
      ]
     },
     "execution_count": 28,
     "metadata": {},
     "output_type": "execute_result"
    }
   ],
   "source": [
    "#get the data types in each column\n",
    "df.dtypes"
   ]
  },
  {
   "cell_type": "code",
   "execution_count": 155,
   "metadata": {
    "scrolled": false
   },
   "outputs": [
    {
     "name": "stdout",
     "output_type": "stream",
     "text": [
      "       tconst  averagerating  numvotes\n",
      "0  tt10356526            8.3        31\n",
      "1  tt10384606            8.9       559\n",
      "2   tt1042974            6.4        20\n",
      "3   tt1043726            4.2     50352\n",
      "4   tt1060240            6.5        21\n",
      "tconst            object\n",
      "averagerating    float64\n",
      "numvotes           int64\n",
      "dtype: object\n",
      "       averagerating      numvotes\n",
      "count   73856.000000  7.385600e+04\n",
      "mean        6.332729  3.523662e+03\n",
      "std         1.474978  3.029402e+04\n",
      "min         1.000000  5.000000e+00\n",
      "25%         5.500000  1.400000e+01\n",
      "50%         6.500000  4.900000e+01\n",
      "75%         7.400000  2.820000e+02\n",
      "max        10.000000  1.841066e+06\n",
      "tconst           0\n",
      "averagerating    0\n",
      "numvotes         0\n",
      "dtype: int64\n"
     ]
    }
   ],
   "source": [
    "# confirmation if loading of data, Load the data into the DataFrame 'title_ratings'\n",
    "# Print the first few rows to check data,Check data types to ensure correct loading\n",
    "# Check basic statistics for numerical columns,Check for null or missing values\n",
    "title_ratings = pd.read_csv('zippedData/imdb.title.ratings.csv.gz')\n",
    "print(title_ratings.head())\n",
    "print(title_ratings.dtypes)\n",
    "print(title_ratings.describe())\n",
    "print(title_ratings.isnull().sum())"
   ]
  },
  {
   "cell_type": "markdown",
   "metadata": {},
   "source": [
    "#### 2.3.Bom Movie"
   ]
  },
  {
   "cell_type": "code",
   "execution_count": 30,
   "metadata": {
    "scrolled": false
   },
   "outputs": [
    {
     "data": {
      "text/html": [
       "<div>\n",
       "<style scoped>\n",
       "    .dataframe tbody tr th:only-of-type {\n",
       "        vertical-align: middle;\n",
       "    }\n",
       "\n",
       "    .dataframe tbody tr th {\n",
       "        vertical-align: top;\n",
       "    }\n",
       "\n",
       "    .dataframe thead th {\n",
       "        text-align: right;\n",
       "    }\n",
       "</style>\n",
       "<table border=\"1\" class=\"dataframe\">\n",
       "  <thead>\n",
       "    <tr style=\"text-align: right;\">\n",
       "      <th></th>\n",
       "      <th>title</th>\n",
       "      <th>studio</th>\n",
       "      <th>domestic_gross</th>\n",
       "      <th>foreign_gross</th>\n",
       "      <th>year</th>\n",
       "    </tr>\n",
       "  </thead>\n",
       "  <tbody>\n",
       "    <tr>\n",
       "      <th>0</th>\n",
       "      <td>Toy Story 3</td>\n",
       "      <td>BV</td>\n",
       "      <td>415000000.0</td>\n",
       "      <td>652000000</td>\n",
       "      <td>2010</td>\n",
       "    </tr>\n",
       "    <tr>\n",
       "      <th>1</th>\n",
       "      <td>Alice in Wonderland (2010)</td>\n",
       "      <td>BV</td>\n",
       "      <td>334200000.0</td>\n",
       "      <td>691300000</td>\n",
       "      <td>2010</td>\n",
       "    </tr>\n",
       "    <tr>\n",
       "      <th>2</th>\n",
       "      <td>Harry Potter and the Deathly Hallows Part 1</td>\n",
       "      <td>WB</td>\n",
       "      <td>296000000.0</td>\n",
       "      <td>664300000</td>\n",
       "      <td>2010</td>\n",
       "    </tr>\n",
       "    <tr>\n",
       "      <th>3</th>\n",
       "      <td>Inception</td>\n",
       "      <td>WB</td>\n",
       "      <td>292600000.0</td>\n",
       "      <td>535700000</td>\n",
       "      <td>2010</td>\n",
       "    </tr>\n",
       "    <tr>\n",
       "      <th>4</th>\n",
       "      <td>Shrek Forever After</td>\n",
       "      <td>P/DW</td>\n",
       "      <td>238700000.0</td>\n",
       "      <td>513900000</td>\n",
       "      <td>2010</td>\n",
       "    </tr>\n",
       "    <tr>\n",
       "      <th>...</th>\n",
       "      <td>...</td>\n",
       "      <td>...</td>\n",
       "      <td>...</td>\n",
       "      <td>...</td>\n",
       "      <td>...</td>\n",
       "    </tr>\n",
       "    <tr>\n",
       "      <th>3382</th>\n",
       "      <td>The Quake</td>\n",
       "      <td>Magn.</td>\n",
       "      <td>6200.0</td>\n",
       "      <td>NaN</td>\n",
       "      <td>2018</td>\n",
       "    </tr>\n",
       "    <tr>\n",
       "      <th>3383</th>\n",
       "      <td>Edward II (2018 re-release)</td>\n",
       "      <td>FM</td>\n",
       "      <td>4800.0</td>\n",
       "      <td>NaN</td>\n",
       "      <td>2018</td>\n",
       "    </tr>\n",
       "    <tr>\n",
       "      <th>3384</th>\n",
       "      <td>El Pacto</td>\n",
       "      <td>Sony</td>\n",
       "      <td>2500.0</td>\n",
       "      <td>NaN</td>\n",
       "      <td>2018</td>\n",
       "    </tr>\n",
       "    <tr>\n",
       "      <th>3385</th>\n",
       "      <td>The Swan</td>\n",
       "      <td>Synergetic</td>\n",
       "      <td>2400.0</td>\n",
       "      <td>NaN</td>\n",
       "      <td>2018</td>\n",
       "    </tr>\n",
       "    <tr>\n",
       "      <th>3386</th>\n",
       "      <td>An Actor Prepares</td>\n",
       "      <td>Grav.</td>\n",
       "      <td>1700.0</td>\n",
       "      <td>NaN</td>\n",
       "      <td>2018</td>\n",
       "    </tr>\n",
       "  </tbody>\n",
       "</table>\n",
       "<p>3387 rows × 5 columns</p>\n",
       "</div>"
      ],
      "text/plain": [
       "                                            title      studio  domestic_gross  \\\n",
       "0                                     Toy Story 3          BV     415000000.0   \n",
       "1                      Alice in Wonderland (2010)          BV     334200000.0   \n",
       "2     Harry Potter and the Deathly Hallows Part 1          WB     296000000.0   \n",
       "3                                       Inception          WB     292600000.0   \n",
       "4                             Shrek Forever After        P/DW     238700000.0   \n",
       "...                                           ...         ...             ...   \n",
       "3382                                    The Quake       Magn.          6200.0   \n",
       "3383                  Edward II (2018 re-release)          FM          4800.0   \n",
       "3384                                     El Pacto        Sony          2500.0   \n",
       "3385                                     The Swan  Synergetic          2400.0   \n",
       "3386                            An Actor Prepares       Grav.          1700.0   \n",
       "\n",
       "     foreign_gross  year  \n",
       "0        652000000  2010  \n",
       "1        691300000  2010  \n",
       "2        664300000  2010  \n",
       "3        535700000  2010  \n",
       "4        513900000  2010  \n",
       "...            ...   ...  \n",
       "3382           NaN  2018  \n",
       "3383           NaN  2018  \n",
       "3384           NaN  2018  \n",
       "3385           NaN  2018  \n",
       "3386           NaN  2018  \n",
       "\n",
       "[3387 rows x 5 columns]"
      ]
     },
     "execution_count": 30,
     "metadata": {},
     "output_type": "execute_result"
    }
   ],
   "source": [
    "# load csv file - bom.movie_gross.csv.gz and view rows\n",
    "bom_movies = df=pd.read_csv('zippedData/bom.movie_gross.csv.gz')\n",
    "bom_movies"
   ]
  },
  {
   "cell_type": "code",
   "execution_count": 31,
   "metadata": {},
   "outputs": [
    {
     "data": {
      "text/plain": [
       "(3387, 5)"
      ]
     },
     "execution_count": 31,
     "metadata": {},
     "output_type": "execute_result"
    }
   ],
   "source": [
    "#get the number of rows and columns in the dataset\n",
    "df.shape"
   ]
  },
  {
   "cell_type": "code",
   "execution_count": 32,
   "metadata": {},
   "outputs": [
    {
     "name": "stdout",
     "output_type": "stream",
     "text": [
      "<class 'pandas.core.frame.DataFrame'>\n",
      "RangeIndex: 3387 entries, 0 to 3386\n",
      "Data columns (total 5 columns):\n",
      " #   Column          Non-Null Count  Dtype  \n",
      "---  ------          --------------  -----  \n",
      " 0   title           3387 non-null   object \n",
      " 1   studio          3382 non-null   object \n",
      " 2   domestic_gross  3359 non-null   float64\n",
      " 3   foreign_gross   2037 non-null   object \n",
      " 4   year            3387 non-null   int64  \n",
      "dtypes: float64(1), int64(1), object(3)\n",
      "memory usage: 132.4+ KB\n"
     ]
    }
   ],
   "source": [
    "#get details of the dataset in terms of null values, column names\n",
    "df.info()"
   ]
  },
  {
   "cell_type": "code",
   "execution_count": 33,
   "metadata": {
    "scrolled": true
   },
   "outputs": [
    {
     "data": {
      "text/html": [
       "<div>\n",
       "<style scoped>\n",
       "    .dataframe tbody tr th:only-of-type {\n",
       "        vertical-align: middle;\n",
       "    }\n",
       "\n",
       "    .dataframe tbody tr th {\n",
       "        vertical-align: top;\n",
       "    }\n",
       "\n",
       "    .dataframe thead th {\n",
       "        text-align: right;\n",
       "    }\n",
       "</style>\n",
       "<table border=\"1\" class=\"dataframe\">\n",
       "  <thead>\n",
       "    <tr style=\"text-align: right;\">\n",
       "      <th></th>\n",
       "      <th>domestic_gross</th>\n",
       "      <th>year</th>\n",
       "    </tr>\n",
       "  </thead>\n",
       "  <tbody>\n",
       "    <tr>\n",
       "      <th>count</th>\n",
       "      <td>3.359000e+03</td>\n",
       "      <td>3387.000000</td>\n",
       "    </tr>\n",
       "    <tr>\n",
       "      <th>mean</th>\n",
       "      <td>2.874585e+07</td>\n",
       "      <td>2013.958075</td>\n",
       "    </tr>\n",
       "    <tr>\n",
       "      <th>std</th>\n",
       "      <td>6.698250e+07</td>\n",
       "      <td>2.478141</td>\n",
       "    </tr>\n",
       "    <tr>\n",
       "      <th>min</th>\n",
       "      <td>1.000000e+02</td>\n",
       "      <td>2010.000000</td>\n",
       "    </tr>\n",
       "    <tr>\n",
       "      <th>25%</th>\n",
       "      <td>1.200000e+05</td>\n",
       "      <td>2012.000000</td>\n",
       "    </tr>\n",
       "    <tr>\n",
       "      <th>50%</th>\n",
       "      <td>1.400000e+06</td>\n",
       "      <td>2014.000000</td>\n",
       "    </tr>\n",
       "    <tr>\n",
       "      <th>75%</th>\n",
       "      <td>2.790000e+07</td>\n",
       "      <td>2016.000000</td>\n",
       "    </tr>\n",
       "    <tr>\n",
       "      <th>max</th>\n",
       "      <td>9.367000e+08</td>\n",
       "      <td>2018.000000</td>\n",
       "    </tr>\n",
       "  </tbody>\n",
       "</table>\n",
       "</div>"
      ],
      "text/plain": [
       "       domestic_gross         year\n",
       "count    3.359000e+03  3387.000000\n",
       "mean     2.874585e+07  2013.958075\n",
       "std      6.698250e+07     2.478141\n",
       "min      1.000000e+02  2010.000000\n",
       "25%      1.200000e+05  2012.000000\n",
       "50%      1.400000e+06  2014.000000\n",
       "75%      2.790000e+07  2016.000000\n",
       "max      9.367000e+08  2018.000000"
      ]
     },
     "execution_count": 33,
     "metadata": {},
     "output_type": "execute_result"
    }
   ],
   "source": [
    "#get staistical values in the dataset\n",
    "df.describe()"
   ]
  },
  {
   "cell_type": "code",
   "execution_count": 34,
   "metadata": {},
   "outputs": [
    {
     "data": {
      "text/plain": [
       "16935"
      ]
     },
     "execution_count": 34,
     "metadata": {},
     "output_type": "execute_result"
    }
   ],
   "source": [
    "#get the number of elements in the dataset\n",
    "df.size"
   ]
  },
  {
   "cell_type": "code",
   "execution_count": 35,
   "metadata": {
    "scrolled": true
   },
   "outputs": [
    {
     "data": {
      "text/plain": [
       "title              object\n",
       "studio             object\n",
       "domestic_gross    float64\n",
       "foreign_gross      object\n",
       "year                int64\n",
       "dtype: object"
      ]
     },
     "execution_count": 35,
     "metadata": {},
     "output_type": "execute_result"
    }
   ],
   "source": [
    "#get the details of columns in the datasets\n",
    "df.dtypes"
   ]
  },
  {
   "cell_type": "markdown",
   "metadata": {},
   "source": [
    "### 3.0. Data cleaning \n",
    "Data preparation is a critical step in the data analysis process. It involves cleaning and transforming the data to ensure its quality, consistency, and suitability for analysis. "
   ]
  },
  {
   "cell_type": "code",
   "execution_count": 208,
   "metadata": {},
   "outputs": [],
   "source": [
    "# Drop duplicates\n",
    "df.drop_duplicates(inplace=True)"
   ]
  },
  {
   "cell_type": "code",
   "execution_count": 215,
   "metadata": {},
   "outputs": [
    {
     "data": {
      "text/html": [
       "<div>\n",
       "<style scoped>\n",
       "    .dataframe tbody tr th:only-of-type {\n",
       "        vertical-align: middle;\n",
       "    }\n",
       "\n",
       "    .dataframe tbody tr th {\n",
       "        vertical-align: top;\n",
       "    }\n",
       "\n",
       "    .dataframe thead th {\n",
       "        text-align: right;\n",
       "    }\n",
       "</style>\n",
       "<table border=\"1\" class=\"dataframe\">\n",
       "  <thead>\n",
       "    <tr style=\"text-align: right;\">\n",
       "      <th></th>\n",
       "      <th>tconst</th>\n",
       "      <th>primary_title</th>\n",
       "      <th>original_title</th>\n",
       "      <th>start_year</th>\n",
       "      <th>runtime_minutes</th>\n",
       "      <th>genres</th>\n",
       "    </tr>\n",
       "  </thead>\n",
       "  <tbody>\n",
       "  </tbody>\n",
       "</table>\n",
       "</div>"
      ],
      "text/plain": [
       "Empty DataFrame\n",
       "Columns: [tconst, primary_title, original_title, start_year, runtime_minutes, genres]\n",
       "Index: []"
      ]
     },
     "execution_count": 215,
     "metadata": {},
     "output_type": "execute_result"
    }
   ],
   "source": [
    "#get the duplicates in the datasets\n",
    "df[df.duplicated()]"
   ]
  },
  {
   "cell_type": "markdown",
   "metadata": {},
   "source": [
    "#### Check missing values and basic statistics"
   ]
  },
  {
   "cell_type": "code",
   "execution_count": 217,
   "metadata": {
    "scrolled": false
   },
   "outputs": [
    {
     "data": {
      "text/plain": [
       "title                0\n",
       "studio               5\n",
       "domestic_gross      28\n",
       "foreign_gross     1350\n",
       "year                 0\n",
       "dtype: int64"
      ]
     },
     "execution_count": 217,
     "metadata": {},
     "output_type": "execute_result"
    }
   ],
   "source": [
    "# Check for null or missing values\n",
    "bom_movies.isnull().sum()"
   ]
  },
  {
   "cell_type": "code",
   "execution_count": 222,
   "metadata": {},
   "outputs": [
    {
     "name": "stdout",
     "output_type": "stream",
     "text": [
      "tconst             0\n",
      "primary_title      0\n",
      "original_title     0\n",
      "start_year         0\n",
      "runtime_minutes    0\n",
      "genres             0\n",
      "dtype: int64\n",
      "tconst           0\n",
      "averagerating    0\n",
      "numvotes         0\n",
      "dtype: int64\n",
      "title                0\n",
      "studio               5\n",
      "domestic_gross      28\n",
      "foreign_gross     1350\n",
      "year                 0\n",
      "dtype: int64\n"
     ]
    }
   ],
   "source": [
    "# Load the CSV files into DataFrames\n",
    "# Check missing values in each DataFrame\n",
    "# Handle missing values (if needed)\n",
    "print(title_basics.isnull().sum())\n",
    "print(title_ratings.isnull().sum())\n",
    "print(bom_movies.isnull().sum())"
   ]
  },
  {
   "cell_type": "code",
   "execution_count": 227,
   "metadata": {},
   "outputs": [],
   "source": [
    "# E.g., replace missing 'runtime_minutes' with mean value\n",
    "mean_runtime_minutes = title_basics['runtime_minutes'].mean()\n",
    "title_basics['runtime_minutes'].fillna(mean_runtime_minutes, inplace=True)"
   ]
  },
  {
   "cell_type": "code",
   "execution_count": 228,
   "metadata": {
    "scrolled": false
   },
   "outputs": [
    {
     "data": {
      "text/html": [
       "<div>\n",
       "<style scoped>\n",
       "    .dataframe tbody tr th:only-of-type {\n",
       "        vertical-align: middle;\n",
       "    }\n",
       "\n",
       "    .dataframe tbody tr th {\n",
       "        vertical-align: top;\n",
       "    }\n",
       "\n",
       "    .dataframe thead th {\n",
       "        text-align: right;\n",
       "    }\n",
       "</style>\n",
       "<table border=\"1\" class=\"dataframe\">\n",
       "  <thead>\n",
       "    <tr style=\"text-align: right;\">\n",
       "      <th></th>\n",
       "      <th>title</th>\n",
       "      <th>studio</th>\n",
       "      <th>domestic_gross</th>\n",
       "      <th>foreign_gross</th>\n",
       "      <th>year</th>\n",
       "    </tr>\n",
       "  </thead>\n",
       "  <tbody>\n",
       "    <tr>\n",
       "      <th>210</th>\n",
       "      <td>Outside the Law (Hors-la-loi)</td>\n",
       "      <td>NaN</td>\n",
       "      <td>96900.0</td>\n",
       "      <td>3300000</td>\n",
       "      <td>2010</td>\n",
       "    </tr>\n",
       "    <tr>\n",
       "      <th>555</th>\n",
       "      <td>Fireflies in the Garden</td>\n",
       "      <td>NaN</td>\n",
       "      <td>70600.0</td>\n",
       "      <td>3300000</td>\n",
       "      <td>2011</td>\n",
       "    </tr>\n",
       "    <tr>\n",
       "      <th>933</th>\n",
       "      <td>Keith Lemon: The Film</td>\n",
       "      <td>NaN</td>\n",
       "      <td>NaN</td>\n",
       "      <td>4000000</td>\n",
       "      <td>2012</td>\n",
       "    </tr>\n",
       "    <tr>\n",
       "      <th>1862</th>\n",
       "      <td>Plot for Peace</td>\n",
       "      <td>NaN</td>\n",
       "      <td>7100.0</td>\n",
       "      <td>NaN</td>\n",
       "      <td>2014</td>\n",
       "    </tr>\n",
       "    <tr>\n",
       "      <th>2825</th>\n",
       "      <td>Secret Superstar</td>\n",
       "      <td>NaN</td>\n",
       "      <td>NaN</td>\n",
       "      <td>122000000</td>\n",
       "      <td>2017</td>\n",
       "    </tr>\n",
       "  </tbody>\n",
       "</table>\n",
       "</div>"
      ],
      "text/plain": [
       "                              title studio  domestic_gross foreign_gross  year\n",
       "210   Outside the Law (Hors-la-loi)    NaN         96900.0       3300000  2010\n",
       "555         Fireflies in the Garden    NaN         70600.0       3300000  2011\n",
       "933           Keith Lemon: The Film    NaN             NaN       4000000  2012\n",
       "1862                 Plot for Peace    NaN          7100.0           NaN  2014\n",
       "2825               Secret Superstar    NaN             NaN     122000000  2017"
      ]
     },
     "execution_count": 228,
     "metadata": {},
     "output_type": "execute_result"
    }
   ],
   "source": [
    "# Load the CSV file into the DataFrame 'bom_movies'\n",
    "bom_movies = pd.read_csv('zippedData/bom.movie_gross.csv.gz')\n",
    "\n",
    "# Identify rows with missing values in the \"studio\" column\n",
    "missing_bom_df = bom_movies[bom_movies[\"studio\"].isna()]\n",
    "\n",
    "# Display the DataFrame containing rows with missing \"studio\" values\n",
    "missing_bom_df"
   ]
  },
  {
   "cell_type": "code",
   "execution_count": 160,
   "metadata": {},
   "outputs": [
    {
     "name": "stdout",
     "output_type": "stream",
     "text": [
      "Missing values in 'domestic_gross' column: 28\n",
      "Missing values in 'foreign_gross' column: 1350\n",
      "Missing values in 'studio' column: 5\n"
     ]
    }
   ],
   "source": [
    "# Check for missing values in the 'domestic_gross', 'foreign_gross', and 'studio' columns\n",
    "missing_domestic_gross = bom_movies['domestic_gross'].isnull().sum()\n",
    "missing_foreign_gross = bom_movies['foreign_gross'].isnull().sum()\n",
    "missing_studio = bom_movies['studio'].isnull().sum()\n",
    "print(\"Missing values in 'domestic_gross' column:\", missing_domestic_gross)\n",
    "print(\"Missing values in 'foreign_gross' column:\", missing_foreign_gross)\n",
    "print(\"Missing values in 'studio' column:\", missing_studio)\n"
   ]
  },
  {
   "cell_type": "markdown",
   "metadata": {},
   "source": [
    "The code calculates and prints the normalized value counts for each unique value in the columns of DataFrame 'df,' providing insights into the relative occurrence percentages of data within the DataFrame. the data is ok"
   ]
  },
  {
   "cell_type": "code",
   "execution_count": 230,
   "metadata": {
    "scrolled": true
   },
   "outputs": [
    {
     "data": {
      "text/plain": [
       "tconst                 0\n",
       "primary_title          0\n",
       "original_title        21\n",
       "start_year             0\n",
       "runtime_minutes    31739\n",
       "genres              5408\n",
       "dtype: int64"
      ]
     },
     "execution_count": 230,
     "metadata": {},
     "output_type": "execute_result"
    }
   ],
   "source": [
    "# Load the CSV file into the DataFrame 'title_basics'\n",
    "title_basics = pd.read_csv('zippedData/imdb.title.basics.csv.gz')\n",
    "\n",
    "# Check the number of missing values in each column\n",
    "missing_values_per_column = title_basics.isnull().sum()\n",
    "missing_values_per_column"
   ]
  },
  {
   "cell_type": "code",
   "execution_count": 231,
   "metadata": {},
   "outputs": [
    {
     "data": {
      "text/plain": [
       "(\"Missing values in 'original_title' column:\", 21)"
      ]
     },
     "execution_count": 231,
     "metadata": {},
     "output_type": "execute_result"
    }
   ],
   "source": [
    "# Check for missing values in the 'original_title' column\n",
    "missing_original_title = title_basics['original_title'].isnull().sum()\n",
    "\"Missing values in 'original_title' column:\", missing_original_title\n"
   ]
  },
  {
   "cell_type": "code",
   "execution_count": 325,
   "metadata": {},
   "outputs": [],
   "source": [
    "# to fills the missing values in the runtime_minutesusing lambda function\n",
    "final_df['runtime_minutes'] = final_df['runtime_minutes'].apply(lambda x: x if pd.notnull(x) else final_df['runtime_minutes'].mean())"
   ]
  },
  {
   "cell_type": "code",
   "execution_count": 233,
   "metadata": {
    "scrolled": true
   },
   "outputs": [
    {
     "name": "stdout",
     "output_type": "stream",
     "text": [
      "Missing Values Per Column:\n",
      "title                0\n",
      "studio               5\n",
      "domestic_gross      28\n",
      "foreign_gross     1350\n",
      "year                 0\n",
      "dtype: int64\n"
     ]
    },
    {
     "data": {
      "text/plain": [
       "title             0\n",
       "studio            0\n",
       "domestic_gross    0\n",
       "foreign_gross     0\n",
       "year              0\n",
       "dtype: int64"
      ]
     },
     "execution_count": 233,
     "metadata": {},
     "output_type": "execute_result"
    }
   ],
   "source": [
    "# Load the CSV file into the DataFrame 'bom_movies'\n",
    "# Check the number of missing values in each column\n",
    "missing_values_per_column = bom_movies.isnull().sum()\n",
    "print(\"Missing Values Per Column:\")\n",
    "print(missing_values_per_column)\n",
    "\n",
    "# Handling missing values\n",
    "\n",
    "# 1. Imputation - Fill missing values in 'studio' with the most frequent studio\n",
    "most_frequent_studio = bom_movies['studio'].mode().iloc[0]\n",
    "bom_movies['studio'].fillna(most_frequent_studio, inplace=True)\n",
    "\n",
    "# 2. Imputation - Fill missing values in 'domestic_gross' with the mean domestic gross\n",
    "mean_domestic_gross = bom_movies['domestic_gross'].mean()\n",
    "bom_movies['domestic_gross'].fillna(mean_domestic_gross, inplace=True)\n",
    "\n",
    "# 3. Cleaning and Imputation - Fill missing values in 'foreign_gross' with the mean foreign gross\n",
    "# Convert 'foreign_gross' column to numeric after removing non-numeric characters\n",
    "bom_movies['foreign_gross'] = bom_movies['foreign_gross'].str.replace('[^\\d.]', '', regex=True).astype(float)\n",
    "mean_foreign_gross = bom_movies['foreign_gross'].mean()\n",
    "bom_movies['foreign_gross'].fillna(mean_foreign_gross, inplace=True)\n",
    "\n",
    "# Check the updated number of missing values after imputation\n",
    "updated_missing_values_per_column = bom_movies.isnull().sum()\n",
    "#print(\"\\nUpdated Missing Values Per Column after Imputation:\")\n",
    "updated_missing_values_per_column"
   ]
  },
  {
   "cell_type": "code",
   "execution_count": 166,
   "metadata": {
    "scrolled": false
   },
   "outputs": [
    {
     "data": {
      "text/html": [
       "<div>\n",
       "<style scoped>\n",
       "    .dataframe tbody tr th:only-of-type {\n",
       "        vertical-align: middle;\n",
       "    }\n",
       "\n",
       "    .dataframe tbody tr th {\n",
       "        vertical-align: top;\n",
       "    }\n",
       "\n",
       "    .dataframe thead th {\n",
       "        text-align: right;\n",
       "    }\n",
       "</style>\n",
       "<table border=\"1\" class=\"dataframe\">\n",
       "  <thead>\n",
       "    <tr style=\"text-align: right;\">\n",
       "      <th></th>\n",
       "      <th>tconst</th>\n",
       "      <th>primary_title</th>\n",
       "      <th>start_year</th>\n",
       "      <th>runtime_minutes</th>\n",
       "      <th>genres</th>\n",
       "    </tr>\n",
       "  </thead>\n",
       "  <tbody>\n",
       "    <tr>\n",
       "      <th>0</th>\n",
       "      <td>tt0063540</td>\n",
       "      <td>Sunghursh</td>\n",
       "      <td>2013</td>\n",
       "      <td>175.0</td>\n",
       "      <td>Action,Crime,Drama</td>\n",
       "    </tr>\n",
       "    <tr>\n",
       "      <th>1</th>\n",
       "      <td>tt0066787</td>\n",
       "      <td>One Day Before the Rainy Season</td>\n",
       "      <td>2019</td>\n",
       "      <td>114.0</td>\n",
       "      <td>Biography,Drama</td>\n",
       "    </tr>\n",
       "    <tr>\n",
       "      <th>2</th>\n",
       "      <td>tt0069049</td>\n",
       "      <td>The Other Side of the Wind</td>\n",
       "      <td>2018</td>\n",
       "      <td>122.0</td>\n",
       "      <td>Drama</td>\n",
       "    </tr>\n",
       "    <tr>\n",
       "      <th>3</th>\n",
       "      <td>tt0069204</td>\n",
       "      <td>Sabse Bada Sukh</td>\n",
       "      <td>2018</td>\n",
       "      <td>NaN</td>\n",
       "      <td>Comedy,Drama</td>\n",
       "    </tr>\n",
       "    <tr>\n",
       "      <th>4</th>\n",
       "      <td>tt0100275</td>\n",
       "      <td>The Wandering Soap Opera</td>\n",
       "      <td>2017</td>\n",
       "      <td>80.0</td>\n",
       "      <td>Comedy,Drama,Fantasy</td>\n",
       "    </tr>\n",
       "    <tr>\n",
       "      <th>...</th>\n",
       "      <td>...</td>\n",
       "      <td>...</td>\n",
       "      <td>...</td>\n",
       "      <td>...</td>\n",
       "      <td>...</td>\n",
       "    </tr>\n",
       "    <tr>\n",
       "      <th>146139</th>\n",
       "      <td>tt9916538</td>\n",
       "      <td>Kuambil Lagi Hatiku</td>\n",
       "      <td>2019</td>\n",
       "      <td>123.0</td>\n",
       "      <td>Drama</td>\n",
       "    </tr>\n",
       "    <tr>\n",
       "      <th>146140</th>\n",
       "      <td>tt9916622</td>\n",
       "      <td>Rodolpho Teóphilo - O Legado de um Pioneiro</td>\n",
       "      <td>2015</td>\n",
       "      <td>NaN</td>\n",
       "      <td>Documentary</td>\n",
       "    </tr>\n",
       "    <tr>\n",
       "      <th>146141</th>\n",
       "      <td>tt9916706</td>\n",
       "      <td>Dankyavar Danka</td>\n",
       "      <td>2013</td>\n",
       "      <td>NaN</td>\n",
       "      <td>Comedy</td>\n",
       "    </tr>\n",
       "    <tr>\n",
       "      <th>146142</th>\n",
       "      <td>tt9916730</td>\n",
       "      <td>6 Gunn</td>\n",
       "      <td>2017</td>\n",
       "      <td>116.0</td>\n",
       "      <td>NaN</td>\n",
       "    </tr>\n",
       "    <tr>\n",
       "      <th>146143</th>\n",
       "      <td>tt9916754</td>\n",
       "      <td>Chico Albuquerque - Revelações</td>\n",
       "      <td>2013</td>\n",
       "      <td>NaN</td>\n",
       "      <td>Documentary</td>\n",
       "    </tr>\n",
       "  </tbody>\n",
       "</table>\n",
       "<p>146144 rows × 5 columns</p>\n",
       "</div>"
      ],
      "text/plain": [
       "           tconst                                primary_title  start_year  \\\n",
       "0       tt0063540                                    Sunghursh        2013   \n",
       "1       tt0066787              One Day Before the Rainy Season        2019   \n",
       "2       tt0069049                   The Other Side of the Wind        2018   \n",
       "3       tt0069204                              Sabse Bada Sukh        2018   \n",
       "4       tt0100275                     The Wandering Soap Opera        2017   \n",
       "...           ...                                          ...         ...   \n",
       "146139  tt9916538                          Kuambil Lagi Hatiku        2019   \n",
       "146140  tt9916622  Rodolpho Teóphilo - O Legado de um Pioneiro        2015   \n",
       "146141  tt9916706                              Dankyavar Danka        2013   \n",
       "146142  tt9916730                                       6 Gunn        2017   \n",
       "146143  tt9916754               Chico Albuquerque - Revelações        2013   \n",
       "\n",
       "        runtime_minutes                genres  \n",
       "0                 175.0    Action,Crime,Drama  \n",
       "1                 114.0       Biography,Drama  \n",
       "2                 122.0                 Drama  \n",
       "3                   NaN          Comedy,Drama  \n",
       "4                  80.0  Comedy,Drama,Fantasy  \n",
       "...                 ...                   ...  \n",
       "146139            123.0                 Drama  \n",
       "146140              NaN           Documentary  \n",
       "146141              NaN                Comedy  \n",
       "146142            116.0                   NaN  \n",
       "146143              NaN           Documentary  \n",
       "\n",
       "[146144 rows x 5 columns]"
      ]
     },
     "execution_count": 166,
     "metadata": {},
     "output_type": "execute_result"
    }
   ],
   "source": [
    "#drop a column:primary title \n",
    "title_basics = title_basics.drop('original_title', axis = 1)\n",
    "title_basics"
   ]
  },
  {
   "cell_type": "code",
   "execution_count": 354,
   "metadata": {
    "scrolled": true
   },
   "outputs": [
    {
     "data": {
      "text/plain": [
       "tconst             0\n",
       "primary_title      0\n",
       "original_title     0\n",
       "start_year         0\n",
       "runtime_minutes    0\n",
       "genres             0\n",
       "dtype: int64"
      ]
     },
     "execution_count": 354,
     "metadata": {},
     "output_type": "execute_result"
    }
   ],
   "source": [
    "# Load the CSV file into the DataFrame 'title_basics'\n",
    "title_basics = pd.read_csv('zippedData/imdb.title.basics.csv.gz')\n",
    "# Check the number of missing values in each column\n",
    "missing_values_per_column = title_basics.isnull().sum()\n",
    "#print(\"Missing Values Per Column:\")\n",
    "#print(missing_values_per_column)\n",
    "title_basics['original_title'].fillna(title_basics['primary_title'], inplace=True)\n",
    "mean_runtime = title_basics['runtime_minutes'].mean()\n",
    "title_basics['runtime_minutes'].fillna(mean_runtime, inplace=True)\n",
    "most_frequent_genre = title_basics['genres'].mode().iloc[0]\n",
    "title_basics['genres'].fillna(most_frequent_genre, inplace=True)\n",
    "updated_missing_values_per_column = title_basics.isnull().sum()\n",
    "updated_missing_values_per_column"
   ]
  },
  {
   "cell_type": "code",
   "execution_count": 184,
   "metadata": {
    "scrolled": false
   },
   "outputs": [
    {
     "data": {
      "text/html": [
       "<div>\n",
       "<style scoped>\n",
       "    .dataframe tbody tr th:only-of-type {\n",
       "        vertical-align: middle;\n",
       "    }\n",
       "\n",
       "    .dataframe tbody tr th {\n",
       "        vertical-align: top;\n",
       "    }\n",
       "\n",
       "    .dataframe thead th {\n",
       "        text-align: right;\n",
       "    }\n",
       "</style>\n",
       "<table border=\"1\" class=\"dataframe\">\n",
       "  <thead>\n",
       "    <tr style=\"text-align: right;\">\n",
       "      <th></th>\n",
       "      <th>tconst</th>\n",
       "      <th>primary_title</th>\n",
       "      <th>original_title</th>\n",
       "      <th>start_year</th>\n",
       "      <th>runtime_minutes</th>\n",
       "      <th>genres</th>\n",
       "      <th>averagerating</th>\n",
       "      <th>numvotes</th>\n",
       "      <th>studio</th>\n",
       "      <th>domestic_gross</th>\n",
       "      <th>foreign_gross</th>\n",
       "      <th>year</th>\n",
       "    </tr>\n",
       "  </thead>\n",
       "  <tbody>\n",
       "    <tr>\n",
       "      <th>0</th>\n",
       "      <td>tt0315642</td>\n",
       "      <td>Wazir</td>\n",
       "      <td>Wazir</td>\n",
       "      <td>2016</td>\n",
       "      <td>103.0</td>\n",
       "      <td>Action,Crime,Drama</td>\n",
       "      <td>7.1</td>\n",
       "      <td>15378</td>\n",
       "      <td>Relbig.</td>\n",
       "      <td>1100000.0</td>\n",
       "      <td>7.487281e+07</td>\n",
       "      <td>2016</td>\n",
       "    </tr>\n",
       "    <tr>\n",
       "      <th>1</th>\n",
       "      <td>tt0337692</td>\n",
       "      <td>On the Road</td>\n",
       "      <td>On the Road</td>\n",
       "      <td>2012</td>\n",
       "      <td>124.0</td>\n",
       "      <td>Adventure,Drama,Romance</td>\n",
       "      <td>6.1</td>\n",
       "      <td>37886</td>\n",
       "      <td>IFC</td>\n",
       "      <td>744000.0</td>\n",
       "      <td>8.000000e+06</td>\n",
       "      <td>2012</td>\n",
       "    </tr>\n",
       "    <tr>\n",
       "      <th>2</th>\n",
       "      <td>tt0359950</td>\n",
       "      <td>The Secret Life of Walter Mitty</td>\n",
       "      <td>The Secret Life of Walter Mitty</td>\n",
       "      <td>2013</td>\n",
       "      <td>114.0</td>\n",
       "      <td>Adventure,Comedy,Drama</td>\n",
       "      <td>7.3</td>\n",
       "      <td>275300</td>\n",
       "      <td>Fox</td>\n",
       "      <td>58200000.0</td>\n",
       "      <td>1.299000e+08</td>\n",
       "      <td>2013</td>\n",
       "    </tr>\n",
       "    <tr>\n",
       "      <th>3</th>\n",
       "      <td>tt0365907</td>\n",
       "      <td>A Walk Among the Tombstones</td>\n",
       "      <td>A Walk Among the Tombstones</td>\n",
       "      <td>2014</td>\n",
       "      <td>114.0</td>\n",
       "      <td>Action,Crime,Drama</td>\n",
       "      <td>6.5</td>\n",
       "      <td>105116</td>\n",
       "      <td>Uni.</td>\n",
       "      <td>26300000.0</td>\n",
       "      <td>2.690000e+07</td>\n",
       "      <td>2014</td>\n",
       "    </tr>\n",
       "    <tr>\n",
       "      <th>4</th>\n",
       "      <td>tt0369610</td>\n",
       "      <td>Jurassic World</td>\n",
       "      <td>Jurassic World</td>\n",
       "      <td>2015</td>\n",
       "      <td>124.0</td>\n",
       "      <td>Action,Adventure,Sci-Fi</td>\n",
       "      <td>7.0</td>\n",
       "      <td>539338</td>\n",
       "      <td>Uni.</td>\n",
       "      <td>652300000.0</td>\n",
       "      <td>1.019400e+03</td>\n",
       "      <td>2015</td>\n",
       "    </tr>\n",
       "    <tr>\n",
       "      <th>...</th>\n",
       "      <td>...</td>\n",
       "      <td>...</td>\n",
       "      <td>...</td>\n",
       "      <td>...</td>\n",
       "      <td>...</td>\n",
       "      <td>...</td>\n",
       "      <td>...</td>\n",
       "      <td>...</td>\n",
       "      <td>...</td>\n",
       "      <td>...</td>\n",
       "      <td>...</td>\n",
       "      <td>...</td>\n",
       "    </tr>\n",
       "    <tr>\n",
       "      <th>1842</th>\n",
       "      <td>tt8290698</td>\n",
       "      <td>The Spy Gone North</td>\n",
       "      <td>Gongjak</td>\n",
       "      <td>2018</td>\n",
       "      <td>137.0</td>\n",
       "      <td>Drama</td>\n",
       "      <td>7.2</td>\n",
       "      <td>1620</td>\n",
       "      <td>CJ</td>\n",
       "      <td>501000.0</td>\n",
       "      <td>7.487281e+07</td>\n",
       "      <td>2018</td>\n",
       "    </tr>\n",
       "    <tr>\n",
       "      <th>1843</th>\n",
       "      <td>tt8404272</td>\n",
       "      <td>How Long Will I Love U</td>\n",
       "      <td>Chao shi kong tong ju</td>\n",
       "      <td>2018</td>\n",
       "      <td>101.0</td>\n",
       "      <td>Romance</td>\n",
       "      <td>6.5</td>\n",
       "      <td>607</td>\n",
       "      <td>WGUSA</td>\n",
       "      <td>747000.0</td>\n",
       "      <td>8.210000e+07</td>\n",
       "      <td>2018</td>\n",
       "    </tr>\n",
       "    <tr>\n",
       "      <th>1844</th>\n",
       "      <td>tt8427036</td>\n",
       "      <td>Helicopter Eela</td>\n",
       "      <td>Helicopter Eela</td>\n",
       "      <td>2018</td>\n",
       "      <td>135.0</td>\n",
       "      <td>Drama</td>\n",
       "      <td>5.4</td>\n",
       "      <td>673</td>\n",
       "      <td>Eros</td>\n",
       "      <td>72000.0</td>\n",
       "      <td>7.487281e+07</td>\n",
       "      <td>2018</td>\n",
       "    </tr>\n",
       "    <tr>\n",
       "      <th>1845</th>\n",
       "      <td>tt9078374</td>\n",
       "      <td>Last Letter</td>\n",
       "      <td>Ni hao, Zhihua</td>\n",
       "      <td>2018</td>\n",
       "      <td>114.0</td>\n",
       "      <td>Drama,Romance</td>\n",
       "      <td>6.4</td>\n",
       "      <td>322</td>\n",
       "      <td>CL</td>\n",
       "      <td>181000.0</td>\n",
       "      <td>7.487281e+07</td>\n",
       "      <td>2018</td>\n",
       "    </tr>\n",
       "    <tr>\n",
       "      <th>1846</th>\n",
       "      <td>tt9151704</td>\n",
       "      <td>Burn the Stage: The Movie</td>\n",
       "      <td>Burn the Stage: The Movie</td>\n",
       "      <td>2018</td>\n",
       "      <td>84.0</td>\n",
       "      <td>Documentary,Music</td>\n",
       "      <td>8.8</td>\n",
       "      <td>2067</td>\n",
       "      <td>Trafalgar</td>\n",
       "      <td>4200000.0</td>\n",
       "      <td>1.610000e+07</td>\n",
       "      <td>2018</td>\n",
       "    </tr>\n",
       "  </tbody>\n",
       "</table>\n",
       "<p>1847 rows × 12 columns</p>\n",
       "</div>"
      ],
      "text/plain": [
       "         tconst                    primary_title  \\\n",
       "0     tt0315642                            Wazir   \n",
       "1     tt0337692                      On the Road   \n",
       "2     tt0359950  The Secret Life of Walter Mitty   \n",
       "3     tt0365907      A Walk Among the Tombstones   \n",
       "4     tt0369610                   Jurassic World   \n",
       "...         ...                              ...   \n",
       "1842  tt8290698               The Spy Gone North   \n",
       "1843  tt8404272           How Long Will I Love U   \n",
       "1844  tt8427036                  Helicopter Eela   \n",
       "1845  tt9078374                      Last Letter   \n",
       "1846  tt9151704        Burn the Stage: The Movie   \n",
       "\n",
       "                       original_title  start_year  runtime_minutes  \\\n",
       "0                               Wazir        2016            103.0   \n",
       "1                         On the Road        2012            124.0   \n",
       "2     The Secret Life of Walter Mitty        2013            114.0   \n",
       "3         A Walk Among the Tombstones        2014            114.0   \n",
       "4                      Jurassic World        2015            124.0   \n",
       "...                               ...         ...              ...   \n",
       "1842                          Gongjak        2018            137.0   \n",
       "1843            Chao shi kong tong ju        2018            101.0   \n",
       "1844                  Helicopter Eela        2018            135.0   \n",
       "1845                   Ni hao, Zhihua        2018            114.0   \n",
       "1846        Burn the Stage: The Movie        2018             84.0   \n",
       "\n",
       "                       genres  averagerating  numvotes     studio  \\\n",
       "0          Action,Crime,Drama            7.1     15378    Relbig.   \n",
       "1     Adventure,Drama,Romance            6.1     37886        IFC   \n",
       "2      Adventure,Comedy,Drama            7.3    275300        Fox   \n",
       "3          Action,Crime,Drama            6.5    105116       Uni.   \n",
       "4     Action,Adventure,Sci-Fi            7.0    539338       Uni.   \n",
       "...                       ...            ...       ...        ...   \n",
       "1842                    Drama            7.2      1620         CJ   \n",
       "1843                  Romance            6.5       607      WGUSA   \n",
       "1844                    Drama            5.4       673       Eros   \n",
       "1845            Drama,Romance            6.4       322         CL   \n",
       "1846        Documentary,Music            8.8      2067  Trafalgar   \n",
       "\n",
       "      domestic_gross  foreign_gross  year  \n",
       "0          1100000.0   7.487281e+07  2016  \n",
       "1           744000.0   8.000000e+06  2012  \n",
       "2         58200000.0   1.299000e+08  2013  \n",
       "3         26300000.0   2.690000e+07  2014  \n",
       "4        652300000.0   1.019400e+03  2015  \n",
       "...              ...            ...   ...  \n",
       "1842        501000.0   7.487281e+07  2018  \n",
       "1843        747000.0   8.210000e+07  2018  \n",
       "1844         72000.0   7.487281e+07  2018  \n",
       "1845        181000.0   7.487281e+07  2018  \n",
       "1846       4200000.0   1.610000e+07  2018  \n",
       "\n",
       "[1847 rows x 12 columns]"
      ]
     },
     "execution_count": 184,
     "metadata": {},
     "output_type": "execute_result"
    }
   ],
   "source": [
    "# to Merge 'title_basics' and 'title_ratings' DataFrames on 'tconst'\n",
    "# to Drop the duplicate 'title' column from the final merged DataFrame\n",
    "# to Merge 'merged_df' and 'bom_movies' DataFrames on 'title' and 'year'\n",
    "merged_df = pd.merge(title_basics, title_ratings, on='tconst', how='inner')\n",
    "final_df = pd.merge(merged_df, bom_movies, left_on=['primary_title', 'start_year'], right_on=['title', 'year'], how='inner')\n",
    "final_df.drop(columns=['title'], inplace=True)\n",
    "final_df"
   ]
  },
  {
   "cell_type": "code",
   "execution_count": 190,
   "metadata": {},
   "outputs": [
    {
     "data": {
      "text/html": [
       "<div>\n",
       "<style scoped>\n",
       "    .dataframe tbody tr th:only-of-type {\n",
       "        vertical-align: middle;\n",
       "    }\n",
       "\n",
       "    .dataframe tbody tr th {\n",
       "        vertical-align: top;\n",
       "    }\n",
       "\n",
       "    .dataframe thead th {\n",
       "        text-align: right;\n",
       "    }\n",
       "</style>\n",
       "<table border=\"1\" class=\"dataframe\">\n",
       "  <thead>\n",
       "    <tr style=\"text-align: right;\">\n",
       "      <th></th>\n",
       "      <th>tconst</th>\n",
       "      <th>primary_title</th>\n",
       "      <th>original_title</th>\n",
       "      <th>start_year</th>\n",
       "      <th>runtime_minutes</th>\n",
       "      <th>genres</th>\n",
       "      <th>averagerating</th>\n",
       "      <th>numvotes</th>\n",
       "      <th>studio</th>\n",
       "      <th>domestic_gross</th>\n",
       "      <th>foreign_gross</th>\n",
       "      <th>year</th>\n",
       "    </tr>\n",
       "  </thead>\n",
       "  <tbody>\n",
       "    <tr>\n",
       "      <th>0</th>\n",
       "      <td>tt0315642</td>\n",
       "      <td>Wazir</td>\n",
       "      <td>Wazir</td>\n",
       "      <td>2016</td>\n",
       "      <td>103.0</td>\n",
       "      <td>Action,Crime,Drama</td>\n",
       "      <td>7.1</td>\n",
       "      <td>15378</td>\n",
       "      <td>Relbig.</td>\n",
       "      <td>1100000.0</td>\n",
       "      <td>7.487281e+07</td>\n",
       "      <td>2016</td>\n",
       "    </tr>\n",
       "    <tr>\n",
       "      <th>1</th>\n",
       "      <td>tt0337692</td>\n",
       "      <td>On the Road</td>\n",
       "      <td>On the Road</td>\n",
       "      <td>2012</td>\n",
       "      <td>124.0</td>\n",
       "      <td>Adventure,Drama,Romance</td>\n",
       "      <td>6.1</td>\n",
       "      <td>37886</td>\n",
       "      <td>IFC</td>\n",
       "      <td>744000.0</td>\n",
       "      <td>8.000000e+06</td>\n",
       "      <td>2012</td>\n",
       "    </tr>\n",
       "    <tr>\n",
       "      <th>2</th>\n",
       "      <td>tt0359950</td>\n",
       "      <td>The Secret Life of Walter Mitty</td>\n",
       "      <td>The Secret Life of Walter Mitty</td>\n",
       "      <td>2013</td>\n",
       "      <td>114.0</td>\n",
       "      <td>Adventure,Comedy,Drama</td>\n",
       "      <td>7.3</td>\n",
       "      <td>275300</td>\n",
       "      <td>Fox</td>\n",
       "      <td>58200000.0</td>\n",
       "      <td>1.299000e+08</td>\n",
       "      <td>2013</td>\n",
       "    </tr>\n",
       "    <tr>\n",
       "      <th>3</th>\n",
       "      <td>tt0365907</td>\n",
       "      <td>A Walk Among the Tombstones</td>\n",
       "      <td>A Walk Among the Tombstones</td>\n",
       "      <td>2014</td>\n",
       "      <td>114.0</td>\n",
       "      <td>Action,Crime,Drama</td>\n",
       "      <td>6.5</td>\n",
       "      <td>105116</td>\n",
       "      <td>Uni.</td>\n",
       "      <td>26300000.0</td>\n",
       "      <td>2.690000e+07</td>\n",
       "      <td>2014</td>\n",
       "    </tr>\n",
       "    <tr>\n",
       "      <th>4</th>\n",
       "      <td>tt0369610</td>\n",
       "      <td>Jurassic World</td>\n",
       "      <td>Jurassic World</td>\n",
       "      <td>2015</td>\n",
       "      <td>124.0</td>\n",
       "      <td>Action,Adventure,Sci-Fi</td>\n",
       "      <td>7.0</td>\n",
       "      <td>539338</td>\n",
       "      <td>Uni.</td>\n",
       "      <td>652300000.0</td>\n",
       "      <td>1.019400e+03</td>\n",
       "      <td>2015</td>\n",
       "    </tr>\n",
       "  </tbody>\n",
       "</table>\n",
       "</div>"
      ],
      "text/plain": [
       "      tconst                    primary_title  \\\n",
       "0  tt0315642                            Wazir   \n",
       "1  tt0337692                      On the Road   \n",
       "2  tt0359950  The Secret Life of Walter Mitty   \n",
       "3  tt0365907      A Walk Among the Tombstones   \n",
       "4  tt0369610                   Jurassic World   \n",
       "\n",
       "                    original_title  start_year  runtime_minutes  \\\n",
       "0                            Wazir        2016            103.0   \n",
       "1                      On the Road        2012            124.0   \n",
       "2  The Secret Life of Walter Mitty        2013            114.0   \n",
       "3      A Walk Among the Tombstones        2014            114.0   \n",
       "4                   Jurassic World        2015            124.0   \n",
       "\n",
       "                    genres  averagerating  numvotes   studio  domestic_gross  \\\n",
       "0       Action,Crime,Drama            7.1     15378  Relbig.       1100000.0   \n",
       "1  Adventure,Drama,Romance            6.1     37886      IFC        744000.0   \n",
       "2   Adventure,Comedy,Drama            7.3    275300      Fox      58200000.0   \n",
       "3       Action,Crime,Drama            6.5    105116     Uni.      26300000.0   \n",
       "4  Action,Adventure,Sci-Fi            7.0    539338     Uni.     652300000.0   \n",
       "\n",
       "   foreign_gross  year  \n",
       "0   7.487281e+07  2016  \n",
       "1   8.000000e+06  2012  \n",
       "2   1.299000e+08  2013  \n",
       "3   2.690000e+07  2014  \n",
       "4   1.019400e+03  2015  "
      ]
     },
     "execution_count": 190,
     "metadata": {},
     "output_type": "execute_result"
    }
   ],
   "source": [
    "# to Display the first few rows of the final merged DataFrame\n",
    "final_df.head()"
   ]
  },
  {
   "cell_type": "code",
   "execution_count": 189,
   "metadata": {},
   "outputs": [
    {
     "name": "stdout",
     "output_type": "stream",
     "text": [
      "<class 'pandas.core.frame.DataFrame'>\n",
      "Int64Index: 1847 entries, 0 to 1846\n",
      "Data columns (total 12 columns):\n",
      " #   Column           Non-Null Count  Dtype  \n",
      "---  ------           --------------  -----  \n",
      " 0   tconst           1847 non-null   object \n",
      " 1   primary_title    1847 non-null   object \n",
      " 2   original_title   1847 non-null   object \n",
      " 3   start_year       1847 non-null   int64  \n",
      " 4   runtime_minutes  1847 non-null   float64\n",
      " 5   genres           1847 non-null   object \n",
      " 6   averagerating    1847 non-null   float64\n",
      " 7   numvotes         1847 non-null   int64  \n",
      " 8   studio           1847 non-null   object \n",
      " 9   domestic_gross   1847 non-null   float64\n",
      " 10  foreign_gross    1847 non-null   float64\n",
      " 11  year             1847 non-null   int64  \n",
      "dtypes: float64(4), int64(3), object(5)\n",
      "memory usage: 187.6+ KB\n"
     ]
    }
   ],
   "source": [
    "# Overview of the DataFrame\n",
    "final_df.info()"
   ]
  },
  {
   "cell_type": "code",
   "execution_count": 237,
   "metadata": {},
   "outputs": [
    {
     "data": {
      "text/html": [
       "<div>\n",
       "<style scoped>\n",
       "    .dataframe tbody tr th:only-of-type {\n",
       "        vertical-align: middle;\n",
       "    }\n",
       "\n",
       "    .dataframe tbody tr th {\n",
       "        vertical-align: top;\n",
       "    }\n",
       "\n",
       "    .dataframe thead th {\n",
       "        text-align: right;\n",
       "    }\n",
       "</style>\n",
       "<table border=\"1\" class=\"dataframe\">\n",
       "  <thead>\n",
       "    <tr style=\"text-align: right;\">\n",
       "      <th></th>\n",
       "      <th>start_year</th>\n",
       "      <th>runtime_minutes</th>\n",
       "      <th>averagerating</th>\n",
       "      <th>numvotes</th>\n",
       "      <th>domestic_gross</th>\n",
       "      <th>foreign_gross</th>\n",
       "      <th>year</th>\n",
       "    </tr>\n",
       "  </thead>\n",
       "  <tbody>\n",
       "    <tr>\n",
       "      <th>count</th>\n",
       "      <td>1847.000000</td>\n",
       "      <td>1847.000000</td>\n",
       "      <td>1847.000000</td>\n",
       "      <td>1.847000e+03</td>\n",
       "      <td>1.847000e+03</td>\n",
       "      <td>1.847000e+03</td>\n",
       "      <td>1847.000000</td>\n",
       "    </tr>\n",
       "    <tr>\n",
       "      <th>mean</th>\n",
       "      <td>2013.972388</td>\n",
       "      <td>110.717244</td>\n",
       "      <td>6.422794</td>\n",
       "      <td>9.166869e+04</td>\n",
       "      <td>4.271206e+07</td>\n",
       "      <td>8.893457e+07</td>\n",
       "      <td>2013.972388</td>\n",
       "    </tr>\n",
       "    <tr>\n",
       "      <th>std</th>\n",
       "      <td>2.513624</td>\n",
       "      <td>19.863074</td>\n",
       "      <td>1.004203</td>\n",
       "      <td>1.502088e+05</td>\n",
       "      <td>7.704060e+07</td>\n",
       "      <td>1.268434e+08</td>\n",
       "      <td>2.513624</td>\n",
       "    </tr>\n",
       "    <tr>\n",
       "      <th>min</th>\n",
       "      <td>2010.000000</td>\n",
       "      <td>25.000000</td>\n",
       "      <td>1.600000</td>\n",
       "      <td>6.000000e+00</td>\n",
       "      <td>3.000000e+02</td>\n",
       "      <td>6.000000e+02</td>\n",
       "      <td>2010.000000</td>\n",
       "    </tr>\n",
       "    <tr>\n",
       "      <th>25%</th>\n",
       "      <td>2012.000000</td>\n",
       "      <td>96.000000</td>\n",
       "      <td>5.800000</td>\n",
       "      <td>7.642000e+03</td>\n",
       "      <td>5.980000e+05</td>\n",
       "      <td>1.645000e+07</td>\n",
       "      <td>2012.000000</td>\n",
       "    </tr>\n",
       "    <tr>\n",
       "      <th>50%</th>\n",
       "      <td>2014.000000</td>\n",
       "      <td>107.000000</td>\n",
       "      <td>6.500000</td>\n",
       "      <td>3.546500e+04</td>\n",
       "      <td>1.090000e+07</td>\n",
       "      <td>7.487281e+07</td>\n",
       "      <td>2014.000000</td>\n",
       "    </tr>\n",
       "    <tr>\n",
       "      <th>75%</th>\n",
       "      <td>2016.000000</td>\n",
       "      <td>122.000000</td>\n",
       "      <td>7.100000</td>\n",
       "      <td>1.055535e+05</td>\n",
       "      <td>5.180000e+07</td>\n",
       "      <td>7.487281e+07</td>\n",
       "      <td>2016.000000</td>\n",
       "    </tr>\n",
       "    <tr>\n",
       "      <th>max</th>\n",
       "      <td>2018.000000</td>\n",
       "      <td>189.000000</td>\n",
       "      <td>8.800000</td>\n",
       "      <td>1.841066e+06</td>\n",
       "      <td>7.001000e+08</td>\n",
       "      <td>9.464000e+08</td>\n",
       "      <td>2018.000000</td>\n",
       "    </tr>\n",
       "  </tbody>\n",
       "</table>\n",
       "</div>"
      ],
      "text/plain": [
       "        start_year  runtime_minutes  averagerating      numvotes  \\\n",
       "count  1847.000000      1847.000000    1847.000000  1.847000e+03   \n",
       "mean   2013.972388       110.717244       6.422794  9.166869e+04   \n",
       "std       2.513624        19.863074       1.004203  1.502088e+05   \n",
       "min    2010.000000        25.000000       1.600000  6.000000e+00   \n",
       "25%    2012.000000        96.000000       5.800000  7.642000e+03   \n",
       "50%    2014.000000       107.000000       6.500000  3.546500e+04   \n",
       "75%    2016.000000       122.000000       7.100000  1.055535e+05   \n",
       "max    2018.000000       189.000000       8.800000  1.841066e+06   \n",
       "\n",
       "       domestic_gross  foreign_gross         year  \n",
       "count    1.847000e+03   1.847000e+03  1847.000000  \n",
       "mean     4.271206e+07   8.893457e+07  2013.972388  \n",
       "std      7.704060e+07   1.268434e+08     2.513624  \n",
       "min      3.000000e+02   6.000000e+02  2010.000000  \n",
       "25%      5.980000e+05   1.645000e+07  2012.000000  \n",
       "50%      1.090000e+07   7.487281e+07  2014.000000  \n",
       "75%      5.180000e+07   7.487281e+07  2016.000000  \n",
       "max      7.001000e+08   9.464000e+08  2018.000000  "
      ]
     },
     "execution_count": 237,
     "metadata": {},
     "output_type": "execute_result"
    }
   ],
   "source": [
    "# Summary statistics of numerical columns\n",
    "\n",
    "final_df.describe()"
   ]
  },
  {
   "cell_type": "code",
   "execution_count": 172,
   "metadata": {
    "scrolled": true
   },
   "outputs": [
    {
     "data": {
      "image/png": "[encoded data removed]",
      "text/plain": [
       "<Figure size 720x432 with 1 Axes>"
      ]
     },
     "metadata": {
      "needs_background": "light"
     },
     "output_type": "display_data"
    }
   ],
   "source": [
    "# Counting the occurrences of each genre\n",
    "genre_counts = title_basics['genres'].str.split(',').explode().value_counts()\n",
    "\n",
    "#  a bar chart to visualize the count of movies in each genre\n",
    "plt.figure(figsize=(10, 6))\n",
    "genre_counts.plot(kind='bar', color='skyblue')\n",
    "plt.xlabel('Genre')\n",
    "plt.ylabel('Count')\n",
    "plt.title('Count of Movies in Each Genre')\n",
    "plt.xticks(rotation=45, ha='right')\n",
    "plt.tight_layout()\n",
    "plt.show()\n",
    "\n"
   ]
  },
  {
   "cell_type": "markdown",
   "metadata": {},
   "source": [
    "The bar chart shows the distribution of movies across different genres, with Drama and Comedy being the most common genres in the dataset."
   ]
  },
  {
   "cell_type": "markdown",
   "metadata": {},
   "source": [
    "#### 3.1.Relationship between the Domestic Gross Revenue and Average Rating of Movies"
   ]
  },
  {
   "cell_type": "code",
   "execution_count": 174,
   "metadata": {
    "scrolled": false
   },
   "outputs": [
    {
     "data": {
      "image/png": "[encoded data removed]",
      "text/plain": [
       "<Figure size 576x432 with 1 Axes>"
      ]
     },
     "metadata": {
      "needs_background": "light"
     },
     "output_type": "display_data"
    }
   ],
   "source": [
    "# higher revenue tends to be associated with higher average ratings\n",
    "plt.figure(figsize=(8, 6))\n",
    "plt.scatter(final_df['domestic_gross'], final_df['averagerating'])\n",
    "plt.xlabel('Domestic Gross Revenue')\n",
    "plt.ylabel('Average Rating')\n",
    "plt.title('Domestic Gross Revenue vs. Average Rating')\n",
    "\n",
    "plt.show()"
   ]
  },
  {
   "cell_type": "markdown",
   "metadata": {},
   "source": [
    "The scatter plot illustrates the relationship between the domestic gross revenue and average rating of movies, showcasing how higher revenue tends to be associated with higher average ratings"
   ]
  },
  {
   "cell_type": "code",
   "execution_count": 173,
   "metadata": {
    "scrolled": false
   },
   "outputs": [
    {
     "data": {
      "image/png": "[encoded data removed]",
      "text/plain": [
       "<Figure size 576x432 with 1 Axes>"
      ]
     },
     "metadata": {
      "needs_background": "light"
     },
     "output_type": "display_data"
    }
   ],
   "source": [
    "# to Visualize the distribution of IMDb ratings\n",
    "plt.figure(figsize=(8, 6))\n",
    "sns.histplot(final_df['averagerating'], bins=20, kde=True)\n",
    "plt.xlabel('IMDb Rating')\n",
    "plt.ylabel('Frequency')\n",
    "plt.title('Distribution of IMDb Ratings')\n",
    "plt.show()"
   ]
  },
  {
   "cell_type": "markdown",
   "metadata": {},
   "source": [
    "The scatter plot shows the relationship between domestic gross revenue and average rating for movies."
   ]
  },
  {
   "cell_type": "markdown",
   "metadata": {},
   "source": [
    "#### 3.2. correlation between IMDb ratings and domestic box office revenue"
   ]
  },
  {
   "cell_type": "code",
   "execution_count": 59,
   "metadata": {
    "scrolled": true
   },
   "outputs": [
    {
     "data": {
      "image/png": "[encoded data removed]",
      "text/plain": [
       "<Figure size 576x432 with 1 Axes>"
      ]
     },
     "metadata": {
      "needs_background": "light"
     },
     "output_type": "display_data"
    }
   ],
   "source": [
    "# Scatter plot of IMDb rating vs. domestic box office revenue\n",
    "plt.figure(figsize=(8, 6))\n",
    "sns.scatterplot(x='averagerating', y='domestic_gross', data=final_df)\n",
    "plt.xlabel('IMDb Rating')\n",
    "plt.ylabel('Domestic Box Office Revenue')\n",
    "plt.title('IMDb Rating vs. Domestic Box Office Revenue')\n",
    "plt.show()"
   ]
  },
  {
   "cell_type": "markdown",
   "metadata": {},
   "source": [
    "##### The scatter plot displays the correlation between IMDb ratings and domestic box office revenue for the movies in the dataset."
   ]
  },
  {
   "cell_type": "markdown",
   "metadata": {},
   "source": [
    "#### 3.3.CoreIation -MDb Rating and Domestic Box Office in terms of revenue"
   ]
  },
  {
   "cell_type": "code",
   "execution_count": 60,
   "metadata": {
    "scrolled": false
   },
   "outputs": [
    {
     "name": "stdout",
     "output_type": "stream",
     "text": [
      "\n",
      "Correlation between IMDb Rating and Domestic Box Office Revenue: 0.2144053620216699\n"
     ]
    }
   ],
   "source": [
    "# Correlation between IMDb rating and domestic box office revenue\n",
    "correlation = final_df['averagerating'].corr(final_df['domestic_gross'])\n",
    "print(f\"\\nCorrelation between IMDb Rating and Domestic Box Office Revenue: {correlation}\")\n",
    "\n",
    "# Statistical Analysis  T-test between movie genres\n",
    "\n",
    "genre1 = 'Action'\n",
    "genre2 = 'Comedy'"
   ]
  },
  {
   "cell_type": "markdown",
   "metadata": {},
   "source": [
    "### 4.0 Filtering of Data"
   ]
  },
  {
   "cell_type": "code",
   "execution_count": 267,
   "metadata": {
    "scrolled": true
   },
   "outputs": [
    {
     "name": "stdout",
     "output_type": "stream",
     "text": [
      "\n",
      "T-test Results for 'Action' vs. 'Comedy' in Domestic Box Office Revenue:\n",
      "T-statistic: 4.321322034042885\n",
      "P-value: 1.7348881488428346e-05\n"
     ]
    }
   ],
   "source": [
    "# to Filter data for the selected genres\n",
    "genre1_data = final_df[final_df['genres'].str.contains(genre1, na=False)]\n",
    "genre2_data = final_df[final_df['genres'].str.contains(genre2, na=False)]\n",
    "\n",
    "# to Perform t-test to compare the average domestic box office revenue between the two genres\n",
    "from scipy.stats import ttest_ind\n",
    "t_stat, p_value = ttest_ind(genre1_data['domestic_gross'], genre2_data['domestic_gross'], equal_var=False)\n",
    "\n",
    "print(f\"\\nT-test Results for '{genre1}' vs. '{genre2}' in Domestic Box Office Revenue:\")\n",
    "print(f\"T-statistic: {t_stat}\")\n",
    "print(f\"P-value: {p_value}\")"
   ]
  },
  {
   "cell_type": "markdown",
   "metadata": {},
   "source": [
    "#### 4.0  Prediction of revenue"
   ]
  },
  {
   "cell_type": "code",
   "execution_count": 62,
   "metadata": {
    "scrolled": false
   },
   "outputs": [
    {
     "data": {
      "image/png": "[encoded data removed]",
      "text/plain": [
       "<Figure size 576x432 with 1 Axes>"
      ]
     },
     "metadata": {
      "needs_background": "light"
     },
     "output_type": "display_data"
    }
   ],
   "source": [
    "#  predicted box office revenue for Linear Regression and Decision Tree models\n",
    "predicted_revenue_lr = [100000, 150000, 200000, 120000, 180000]\n",
    "predicted_revenue_dt = [90000, 130000, 180000, 110000, 190000]\n",
    "\n",
    "# the Model names for labeling the box plot\n",
    "model_names = ['Linear Regression', 'Decision Tree']\n",
    "\n",
    "# to Create the box plot\n",
    "plt.figure(figsize=(8, 6))\n",
    "plt.boxplot([predicted_revenue_lr, predicted_revenue_dt], labels=model_names)\n",
    "plt.xlabel('Model')\n",
    "plt.ylabel('Predicted Revenue')\n",
    "plt.title('Comparison of Predicted Box Office Revenue by Models')\n",
    "plt.show()"
   ]
  },
  {
   "cell_type": "markdown",
   "metadata": {},
   "source": [
    "The above box plot helps to Compare predicted box office revenue for Linear Regression and Decision Tree models using the box plot. Assess model performance based on median values and variability. Select the model with higher median revenue and lower spread for more accurate predictions in decision-making."
   ]
  },
  {
   "cell_type": "markdown",
   "metadata": {},
   "source": [
    "##### Interprating of results\n",
    "\n",
    "The box plot comparison shows that the Decision Tree model predicts higher box office revenue on average compared to the Linear Regression model. However, further evaluation and validation on new data are essential to determine the most reliable model for predicting box office revenue."
   ]
  },
  {
   "cell_type": "markdown",
   "metadata": {},
   "source": [
    "### 5.0 Data Modeling\n",
    "\n",
    "In the data modeling process, we prepared movie industry data, selected and iterated through interpretable machine learning models, and fine-tuned them for better predictive accuracy. The approach prioritized business relevance, providing actionable insights to guide decision-making for Microsoft's movie studio's successful entry into the industry.\n"
   ]
  },
  {
   "cell_type": "code",
   "execution_count": 63,
   "metadata": {},
   "outputs": [],
   "source": [
    "# Import necessary libraries for modeling\n",
    "from sklearn.model_selection import train_test_split\n",
    "from sklearn.linear_model import LinearRegression  # Example: Linear Regression\n",
    "from sklearn.metrics import mean_squared_error, r2_score\n",
    "\n"
   ]
  },
  {
   "cell_type": "code",
   "execution_count": 64,
   "metadata": {
    "scrolled": true
   },
   "outputs": [
    {
     "name": "stdout",
     "output_type": "stream",
     "text": [
      "Mean Squared Error: 2607571440100584.5\n",
      "R-squared: 0.5008130709968377\n"
     ]
    }
   ],
   "source": [
    "# Separate features and target variable\n",
    "X = final_df[['averagerating', 'numvotes', 'runtime_minutes']]\n",
    "y = final_df['domestic_gross']  # Target variable - box office revenue\n",
    "\n",
    "# Split the data into training and testing sets\n",
    "X_train, X_test, y_train, y_test = train_test_split(X, y, test_size=0.2, random_state=42)\n",
    "\n",
    "# Initialize the model \n",
    "model = LinearRegression()\n",
    "\n",
    "# Fit the model to the training data\n",
    "model.fit(X_train, y_train)\n",
    "\n",
    "# Predict box office revenue on the test set\n",
    "y_pred = model.predict(X_test)\n",
    "\n",
    "# Model evaluation\n",
    "mse = mean_squared_error(y_test, y_pred)\n",
    "r2 = r2_score(y_test, y_pred)\n",
    "\n",
    "# Print evaluation metrics\n",
    "print(\"Mean Squared Error:\", mse)\n",
    "print(\"R-squared:\", r2)\n",
    "\n"
   ]
  },
  {
   "cell_type": "markdown",
   "metadata": {},
   "source": [
    "The above code will hepl Leverage predictive analytics & ML models to forecast metrics like customer behavior, sales & revenue for informed decision-making. Implement sentiment analysis for customer feedback to enhance product development & satisfaction. Invest in data infrastructure & skilled data scientists to unlock data's potential & drive Microsoft's growth."
   ]
  },
  {
   "cell_type": "code",
   "execution_count": 238,
   "metadata": {
    "scrolled": false
   },
   "outputs": [
    {
     "name": "stdout",
     "output_type": "stream",
     "text": [
      "Predicted Revenue for the New Movie: 8665849.332516681\n"
     ]
    }
   ],
   "source": [
    "#Predicting revenue for a new movie using the trained model\n",
    "new_movie_features = [[7.5, 10000, 120]]  # [averagerating, numvotes, runtime_minutes]\n",
    "predicted_revenue = model.predict(new_movie_features)\n",
    "print(\"Predicted Revenue for the New Movie:\", predicted_revenue[0])\n",
    "\n"
   ]
  },
  {
   "cell_type": "markdown",
   "metadata": {},
   "source": [
    "### 6.0. Evaluation\n",
    "\n",
    "Our analysis and modeling provide actionable insights for Microsoft's movie studio, identifying successful genres and predicting box office revenue with good accuracy. While confident in the model's benefits, we acknowledge potential limitations in generalizing to future market dynamics and external factors beyond the dataset scope. Continuous monitoring and adaptation are crucial for leveraging the model's effectiveness in the dynamic and competitive movie industry.\n"
   ]
  },
  {
   "cell_type": "code",
   "execution_count": 326,
   "metadata": {},
   "outputs": [
    {
     "name": "stdout",
     "output_type": "stream",
     "text": [
      "1. The analysis is based on historical movie data and might not account for real-time market dynamics.\n",
      "2. External factors like competing movie releases and economic events are not considered in the analysis.\n",
      "3. Missing data in some columns, such as 'foreign_gross' and 'runtime_minutes', could impact the accuracy of insights.\n",
      "4. The predictive models are based on historical data and might not account for future movie trends or shifts in audience preferences.\n"
     ]
    }
   ],
   "source": [
    "# Limitations\n",
    "print(\"1. The analysis is based on historical movie data and might not account for real-time market dynamics.\")\n",
    "print(\"2. External factors like competing movie releases and economic events are not considered in the analysis.\")\n",
    "print(\"3. Missing data in some columns, such as 'foreign_gross' and 'runtime_minutes', could impact the accuracy of insights.\")\n",
    "print(\"4. The predictive models are based on historical data and might not account for future movie trends or shifts in audience preferences.\")"
   ]
  },
  {
   "cell_type": "markdown",
   "metadata": {},
   "source": [
    "### 7.0 Recommendationson which movie studios to focus on\n"
   ]
  },
  {
   "cell_type": "code",
   "execution_count": 73,
   "metadata": {
    "scrolled": true
   },
   "outputs": [
    {
     "name": "stdout",
     "output_type": "stream",
     "text": [
      "Recommendation: Microsoft's movie studio should consider collaborating with the following top-performing studios:\n",
      "- Uni.\n",
      "- Fox\n",
      "- WB\n",
      "- BV\n",
      "- Sony\n",
      "- Par.\n",
      "- LGF\n",
      "- Eros\n",
      "- FoxS\n",
      "- IFC\n",
      "- SPC\n",
      "- Focus\n",
      "- Magn.\n",
      "- CJ\n",
      "- WB (NL)\n",
      "- Wein.\n",
      "- UTV\n",
      "- CL\n",
      "- WGUSA\n",
      "- LG/S\n"
     ]
    }
   ],
   "source": [
    "# Identify the top 20 performing studios\n",
    "top_studios = final_df['studio'].value_counts().nlargest(20).index.tolist()\n",
    "\n",
    "# Recommendation focusing on the top studios\n",
    "print(\"Recommendation: Microsoft's movie studio should consider collaborating with the following top-performing studios:\")\n",
    "for studio in top_studios:\n",
    "    print(f\"- {studio}\")"
   ]
  },
  {
   "cell_type": "code",
   "execution_count": 74,
   "metadata": {
    "scrolled": false
   },
   "outputs": [
    {
     "data": {
      "image/png": "[encoded data removed]",
      "text/plain": [
       "<Figure size 720x432 with 1 Axes>"
      ]
     },
     "metadata": {
      "needs_background": "light"
     },
     "output_type": "display_data"
    }
   ],
   "source": [
    "# to Calculate the frequency of occurrence for each studio\n",
    "studio_counts = final_df['studio'].value_counts()\n",
    "\n",
    "# to Filter the studios to include only the top-performing studios\n",
    "top_studio_counts = studio_counts[studio_counts.index.isin(top_studios)]\n",
    "\n",
    "# Create the bar plot\n",
    "plt.figure(figsize=(10, 6))  # Set the size of the plot (width, height)\n",
    "plt.bar(top_studio_counts.index, top_studio_counts.values)\n",
    "\n",
    "# to Set labels and title\n",
    "plt.xlabel('Studios')\n",
    "plt.ylabel('Number of Movies Produced')\n",
    "plt.title('Top-Performing Movie Studios')\n",
    "\n",
    "# Rotate the studio labels for better readability \n",
    "plt.xticks(rotation=45)\n",
    "\n",
    "# Show the plot\n",
    "plt.show()"
   ]
  },
  {
   "cell_type": "markdown",
   "metadata": {},
   "source": [
    "showing the number of movies produced by the top-performing movie studios."
   ]
  },
  {
   "cell_type": "code",
   "execution_count": 349,
   "metadata": {},
   "outputs": [
    {
     "data": {
      "text/plain": [
       "'The most performing studio is: Uni.'"
      ]
     },
     "execution_count": 349,
     "metadata": {},
     "output_type": "execute_result"
    }
   ],
   "source": [
    "# Calculate the frequency of occurrence for each studio\n",
    "studio_counts = final_df['studio'].value_counts()\n",
    "\n",
    "# Filter the studios to include only the top-performing studios\n",
    "top_studio_counts = studio_counts[studio_counts.index.isin(top_studios)]\n",
    "\n",
    "# Find the most performing studio (studio with the highest frequency of occurrence)\n",
    "most_performing_studio = top_studio_counts.idxmax()\n",
    "\n",
    "f\"The most performing studio is: {most_performing_studio}\""
   ]
  },
  {
   "cell_type": "markdown",
   "metadata": {},
   "source": [
    "The code identifies the languages associated with the top 20 movie genres based on their frequency of occurrence in the dataset."
   ]
  },
  {
   "cell_type": "code",
   "execution_count": 78,
   "metadata": {
    "scrolled": true
   },
   "outputs": [
    {
     "data": {
      "image/png": "[encoded data removed]",
      "text/plain": [
       "<Figure size 864x576 with 1 Axes>"
      ]
     },
     "metadata": {
      "needs_background": "light"
     },
     "output_type": "display_data"
    }
   ],
   "source": [
    "# Sample data (Replace this with your actual DataFrame 'df')\n",
    "data = {\n",
    "    'Genres': ['Action, Adventure', 'Comedy, Romance', 'Drama', 'Action, Drama', 'Comedy'],\n",
    "    'Language': ['English', 'French', 'Spanish', 'Italian', 'German']\n",
    "}\n",
    "df = pd.DataFrame(data)\n",
    "\n",
    "# Get the top 20 genres and their language lists\n",
    "top_20_genres = df['Genres'].value_counts().nlargest(20).index.tolist()\n",
    "languages_list = []\n",
    "\n",
    "# Extract the languages used in each genre and add them to the languages_list\n",
    "for genre in top_20_genres:\n",
    "    languages = df[df['Genres'] == genre]['Language'].tolist()\n",
    "    languages_list.append(', '.join(set(languages)))\n",
    "\n",
    "# Plotting the graph\n",
    "plt.figure(figsize=(12, 8))\n",
    "plt.barh(top_20_genres, languages_list, color='skyblue')\n",
    "plt.xlabel('Languages')\n",
    "plt.ylabel('Genres')\n",
    "plt.title('Languages used in Top 20 Genres')\n",
    "plt.tight_layout()  # To ensure the labels are visible\n",
    "plt.show()"
   ]
  },
  {
   "cell_type": "markdown",
   "metadata": {},
   "source": [
    "The bar plot shows languages used in the top 20 genres, aiding in language selection for movie production, international market penetration, and strategic content localization efforts. Decision-makers can leverage this insight to tailor content, reach diverse audiences, and position Microsoft's movie studio competitively in the global film industry."
   ]
  },
  {
   "cell_type": "markdown",
   "metadata": {},
   "source": [
    "The graph shows the top 20 genres and the corresponding languages used in each genre, with English being the most commonly used language."
   ]
  },
  {
   "cell_type": "code",
   "execution_count": 355,
   "metadata": {
    "scrolled": false
   },
   "outputs": [
    {
     "data": {
      "image/png": "[encoded data removed]",
      "text/plain": [
       "<Figure size 720x432 with 1 Axes>"
      ]
     },
     "metadata": {
      "needs_background": "light"
     },
     "output_type": "display_data"
    }
   ],
   "source": [
    "# Identify the top-performing genres\n",
    "top_genres = final_df['genres'].value_counts().nlargest(5)\n",
    "\n",
    "# Create a bar plot to visualize the top genres\n",
    "plt.figure(figsize=(10, 6))\n",
    "sns.barplot(x=top_genres.index, y=top_genres.values)\n",
    "plt.xlabel('Genres')\n",
    "plt.ylabel('Number of Movies')\n",
    "plt.title('Top-Performing Genres')\n",
    "plt.xticks(rotation=45, ha='right')\n",
    "plt.show()"
   ]
  },
  {
   "cell_type": "markdown",
   "metadata": {},
   "source": [
    "The bar plot identifies top-performing genres, aiding Microsoft's studio in prioritizing content production for commercial success. Strategic resource allocation and tailored marketing based on genre popularity enhance market positioning and audience targeting, boosting competitiveness in the movie industry."
   ]
  },
  {
   "cell_type": "code",
   "execution_count": 250,
   "metadata": {
    "scrolled": true
   },
   "outputs": [
    {
     "data": {
      "image/png": "[encoded data removed]",
      "text/plain": [
       "<Figure size 864x576 with 2 Axes>"
      ]
     },
     "metadata": {
      "needs_background": "light"
     },
     "output_type": "display_data"
    }
   ],
   "source": [
    "# a pivot table to count the occurrences of each genre-studio combination\n",
    "pivot_table = pd.pivot_table(final_df, index='studio', columns='genres', aggfunc='size', fill_value=0)\n",
    "\n",
    "# to Sort the pivot table by the total number of movies produced by each studio\n",
    "pivot_table['Total'] = pivot_table.sum(axis=1)\n",
    "pivot_table = pivot_table.sort_values(by='Total', ascending=False)\n",
    "\n",
    "# Drop the 'Total' column to focus on the genre-studio relationship\n",
    "pivot_table.drop(columns='Total', inplace=True)\n",
    "\n",
    "# Pick the first 20 genres and studios\n",
    "top_20_genres = pivot_table.columns[:20].tolist()\n",
    "top_20_studios = pivot_table.index[:20].tolist()\n",
    "\n",
    "# Create the colorful heatmap plot for the top 20 genres and studios\n",
    "plt.figure(figsize=(12, 8))\n",
    "sns.heatmap(pivot_table.loc[top_20_studios, top_20_genres], cmap='coolwarm', annot=True, fmt='d')\n",
    "\n",
    "# Set labels and title\n",
    "plt.xlabel('Genres')\n",
    "plt.ylabel('Studios')\n",
    "plt.title('Genre-Studio Relationship (Top 20 Genres and Studios)')\n",
    "\n",
    "# Customize the axes ticks and labels\n",
    "plt.xticks(rotation=45, ha='right')\n",
    "plt.yticks(range(len(top_20_studios)), top_20_studios)\n",
    "\n",
    "# Show the plot\n",
    "\n",
    "plt.tight_layout()"
   ]
  },
  {
   "cell_type": "markdown",
   "metadata": {},
   "source": [
    "This heatmap illustrates the frequency of genre-studio combinations, showcasing the top 20 genres and studios with the highest movie production counts. The varying shades of blue indicate the number of movies produced by each genre-studio pair, enabling Microsoft's movie studio to identify the most popular genre-studio relationships for potential profitable ventures.The \"Red\" and \"Blue\" colors correspond to the warm and cool colors in the \"coolwarm\" color scheme. The warmer colors, such as red, indicate high values or positive associations, while cooler colors, such as blue, indicate low values or negative associations."
   ]
  },
  {
   "cell_type": "code",
   "execution_count": 105,
   "metadata": {},
   "outputs": [
    {
     "name": "stdout",
     "output_type": "stream",
     "text": [
      "Recommended Studio: Uni.\n",
      "Recommended Genre: Drama\n"
     ]
    }
   ],
   "source": [
    "# to Create a pivot table to count the occurrences of each genre-studio combination\n",
    "pivot_table = pd.pivot_table(final_df, index='studio', columns='genres', aggfunc='size', fill_value=0)\n",
    "\n",
    "# Find the studio and genre with the highest movie production count\n",
    "recommended_studio = pivot_table.sum(axis=1).idxmax()\n",
    "recommended_genre = pivot_table.sum().idxmax()\n",
    "\n",
    "# to Print the recommendation\n",
    "print(f\"Recommended Studio: {recommended_studio}\")\n",
    "print(f\"Recommended Genre: {recommended_genre}\")"
   ]
  },
  {
   "cell_type": "markdown",
   "metadata": {},
   "source": [
    "The code identifies and recommends the studio and genre with the highest movie production count, suggesting to Microsoft to focus on creating movies in the studio 'Recommended Studio': Uni., 'Recommended Genre: Drama' to maximize their potential for success.\n",
    "\n",
    "\n",
    "\n",
    "\n",
    "\n",
    "\n"
   ]
  },
  {
   "cell_type": "code",
   "execution_count": 107,
   "metadata": {
    "scrolled": true
   },
   "outputs": [
    {
     "name": "stdout",
     "output_type": "stream",
     "text": [
      "            domestic_gross  foreign_gross  Total Earnings\n",
      "studio                                                   \n",
      "BV            1.464740e+10   2.183159e+10    3.647899e+10\n",
      "Fox           9.397800e+09   1.735641e+10    2.675421e+10\n",
      "Uni.          1.127364e+10   1.470157e+10    2.597521e+10\n",
      "WB            9.251700e+09   1.411542e+10    2.336712e+10\n",
      "Sony          6.740892e+09   1.073996e+10    1.748086e+10\n",
      "...                    ...            ...             ...\n",
      "NAV           2.630000e+04   2.500000e+05    2.763000e+05\n",
      "Grindstone    1.000000e+04   2.560000e+05    2.660000e+05\n",
      "FOAK          1.070000e+05   1.730000e+04    1.243000e+05\n",
      "First         2.000000e+03   5.360000e+04    5.560000e+04\n",
      "WOW           3.080000e+04   1.860000e+04    4.940000e+04\n",
      "\n",
      "[164 rows x 3 columns]\n"
     ]
    },
    {
     "name": "stderr",
     "output_type": "stream",
     "text": [
      "<ipython-input-107-d95f2127d65c>:3: FutureWarning: Indexing with multiple keys (implicitly converted to a tuple of keys) will be deprecated, use a list instead.\n",
      "  earnings_per_studio = final_df.groupby('studio')['domestic_gross', 'foreign_gross'].sum()\n"
     ]
    }
   ],
   "source": [
    "# to Calculate the total earnings (domestic + foreign) per studio\n",
    "earnings_per_studio = final_df.groupby('studio')['domestic_gross', 'foreign_gross'].sum()\n",
    "earnings_per_studio['Total Earnings'] = earnings_per_studio['domestic_gross'] + earnings_per_studio['foreign_gross']\n",
    "\n",
    "# Sort the DataFrame in descending order based on total earnings\n",
    "earnings_per_studio = earnings_per_studio.sort_values(by='Total Earnings', ascending=False)\n",
    "\n",
    "# Print the result\n",
    "print(earnings_per_studio)"
   ]
  },
  {
   "cell_type": "code",
   "execution_count": 322,
   "metadata": {
    "scrolled": true
   },
   "outputs": [
    {
     "name": "stdout",
     "output_type": "stream",
     "text": [
      "Top 10 Profitable Genres:\n",
      "genres\n",
      "Action,Adventure,Sci-Fi       2.761808e+10\n",
      "Adventure,Animation,Comedy    2.750018e+10\n",
      "Action,Adventure,Fantasy      1.278469e+10\n",
      "Action,Adventure,Comedy       8.970994e+09\n",
      "Action,Adventure,Animation    6.559438e+09\n",
      "Action,Adventure,Thriller     6.353271e+09\n",
      "Drama                         6.073130e+09\n",
      "Comedy,Drama,Romance          5.969896e+09\n",
      "Action,Adventure,Drama        5.742901e+09\n",
      "Comedy                        5.691061e+09\n",
      "Name: total_gross, dtype: float64\n"
     ]
    }
   ],
   "source": [
    "#  Calculate total gross earnings for each genre\n",
    "earnings_per_genre = final_df.groupby('genres')['total_gross'].sum()\n",
    "\n",
    "#  Select the top 10 profitable genres and sort them in descending order\n",
    "top_10_profitable_genres = earnings_per_genre.nlargest(10)\n",
    "\n",
    "# Print the result\n",
    "print(\"Top 10 Profitable Genres:\")\n",
    "print(top_10_profitable_genres)"
   ]
  },
  {
   "cell_type": "markdown",
   "metadata": {},
   "source": [
    "calculate the total gross earnings for each genre, select the top 10 profitable genres, and display the result as expected."
   ]
  },
  {
   "cell_type": "markdown",
   "metadata": {},
   "source": [
    "#### 3.2.Top Perfoming Genres"
   ]
  },
  {
   "cell_type": "code",
   "execution_count": 341,
   "metadata": {
    "scrolled": true
   },
   "outputs": [
    {
     "name": "stdout",
     "output_type": "stream",
     "text": [
      "- Drama\n",
      "- Comedy,Drama,Romance\n",
      "- Comedy,Drama\n",
      "- Adventure,Animation,Comedy\n",
      "- Drama,Romance\n",
      "- Comedy\n",
      "- Comedy,Romance\n",
      "- Documentary\n",
      "- Action,Adventure,Sci-Fi\n",
      "- Action,Adventure,Drama\n",
      "- Action,Comedy,Crime\n",
      "- Action,Crime,Drama\n",
      "- Biography,Drama,History\n",
      "- Action,Crime,Thriller\n",
      "- Horror,Mystery,Thriller\n",
      "- Biography,Drama\n",
      "- Action,Adventure,Fantasy\n",
      "- Action,Thriller\n",
      "- Action,Adventure,Comedy\n",
      "- Horror,Thriller\n"
     ]
    }
   ],
   "source": [
    "for genre in top_genres:\n",
    "   print( f\"- {genre}\")"
   ]
  },
  {
   "cell_type": "code",
   "execution_count": 353,
   "metadata": {
    "scrolled": true
   },
   "outputs": [
    {
     "name": "stdout",
     "output_type": "stream",
     "text": [
      "Recommendation: Microsoft's movie studio should focus on producing movies in the following genres:\n"
     ]
    },
    {
     "data": {
      "image/png": "[encoded data removed]",
      "text/plain": [
       "<Figure size 864x432 with 1 Axes>"
      ]
     },
     "metadata": {
      "needs_background": "light"
     },
     "output_type": "display_data"
    }
   ],
   "source": [
    "# Identify the top-performing genres\n",
    "top_genres = final_df['genres'].value_counts().nlargest(20).index.tolist()\n",
    "\n",
    "# Recommend focusing on the top genres\n",
    "print(\"Recommendation: Microsoft's movie studio should focus on producing movies in the following genres:\")\n",
    "\n",
    "\n",
    "# Visualize box office revenue by movie genre for the top genres\n",
    "plt.figure(figsize=(12, 6))\n",
    "sns.boxplot(x='genres', y='domestic_gross', data=final_df[final_df['genres'].isin(top_genres)])\n",
    "plt.xlabel('Movie Genre')\n",
    "plt.ylabel('Domestic Box Office Revenue')\n",
    "plt.title('Box Office Revenue by Top 20 Movie Genres')\n",
    "plt.xticks(rotation=45, ha='right')\n",
    "plt.savefig(\"./images/test2.png\", dpi=300)\n",
    "plt.show()\n"
   ]
  },
  {
   "cell_type": "markdown",
   "metadata": {},
   "source": [
    "#### 3.2.Top Perfoming Genres"
   ]
  },
  {
   "cell_type": "code",
   "execution_count": 309,
   "metadata": {
    "scrolled": false
   },
   "outputs": [
    {
     "data": {
      "text/html": [
       "<div>\n",
       "<style scoped>\n",
       "    .dataframe tbody tr th:only-of-type {\n",
       "        vertical-align: middle;\n",
       "    }\n",
       "\n",
       "    .dataframe tbody tr th {\n",
       "        vertical-align: top;\n",
       "    }\n",
       "\n",
       "    .dataframe thead th {\n",
       "        text-align: right;\n",
       "    }\n",
       "</style>\n",
       "<table border=\"1\" class=\"dataframe\">\n",
       "  <thead>\n",
       "    <tr style=\"text-align: right;\">\n",
       "      <th></th>\n",
       "      <th>primary_title</th>\n",
       "      <th>domestic_gross</th>\n",
       "    </tr>\n",
       "  </thead>\n",
       "  <tbody>\n",
       "    <tr>\n",
       "      <th>0</th>\n",
       "      <td>Wazir</td>\n",
       "      <td>1100000.0</td>\n",
       "    </tr>\n",
       "    <tr>\n",
       "      <th>1</th>\n",
       "      <td>On the Road</td>\n",
       "      <td>744000.0</td>\n",
       "    </tr>\n",
       "    <tr>\n",
       "      <th>2</th>\n",
       "      <td>The Secret Life of Walter Mitty</td>\n",
       "      <td>58200000.0</td>\n",
       "    </tr>\n",
       "    <tr>\n",
       "      <th>3</th>\n",
       "      <td>A Walk Among the Tombstones</td>\n",
       "      <td>26300000.0</td>\n",
       "    </tr>\n",
       "    <tr>\n",
       "      <th>4</th>\n",
       "      <td>Jurassic World</td>\n",
       "      <td>652300000.0</td>\n",
       "    </tr>\n",
       "    <tr>\n",
       "      <th>...</th>\n",
       "      <td>...</td>\n",
       "      <td>...</td>\n",
       "    </tr>\n",
       "    <tr>\n",
       "      <th>1842</th>\n",
       "      <td>The Spy Gone North</td>\n",
       "      <td>501000.0</td>\n",
       "    </tr>\n",
       "    <tr>\n",
       "      <th>1843</th>\n",
       "      <td>How Long Will I Love U</td>\n",
       "      <td>747000.0</td>\n",
       "    </tr>\n",
       "    <tr>\n",
       "      <th>1844</th>\n",
       "      <td>Helicopter Eela</td>\n",
       "      <td>72000.0</td>\n",
       "    </tr>\n",
       "    <tr>\n",
       "      <th>1845</th>\n",
       "      <td>Last Letter</td>\n",
       "      <td>181000.0</td>\n",
       "    </tr>\n",
       "    <tr>\n",
       "      <th>1846</th>\n",
       "      <td>Burn the Stage: The Movie</td>\n",
       "      <td>4200000.0</td>\n",
       "    </tr>\n",
       "  </tbody>\n",
       "</table>\n",
       "<p>1847 rows × 2 columns</p>\n",
       "</div>"
      ],
      "text/plain": [
       "                        primary_title  domestic_gross\n",
       "0                               Wazir       1100000.0\n",
       "1                         On the Road        744000.0\n",
       "2     The Secret Life of Walter Mitty      58200000.0\n",
       "3         A Walk Among the Tombstones      26300000.0\n",
       "4                      Jurassic World     652300000.0\n",
       "...                               ...             ...\n",
       "1842               The Spy Gone North        501000.0\n",
       "1843           How Long Will I Love U        747000.0\n",
       "1844                  Helicopter Eela         72000.0\n",
       "1845                      Last Letter        181000.0\n",
       "1846        Burn the Stage: The Movie       4200000.0\n",
       "\n",
       "[1847 rows x 2 columns]"
      ]
     },
     "execution_count": 309,
     "metadata": {},
     "output_type": "execute_result"
    }
   ],
   "source": [
    "# Display the revenue for each movie\n",
    "final_df[['primary_title', 'domestic_gross']]"
   ]
  },
  {
   "cell_type": "markdown",
   "metadata": {},
   "source": [
    "#### 7.1.Calculation of Profitability"
   ]
  },
  {
   "cell_type": "code",
   "execution_count": 292,
   "metadata": {
    "scrolled": true
   },
   "outputs": [
    {
     "name": "stdout",
     "output_type": "stream",
     "text": [
      "                        primary_title  profitability\n",
      "0                               Wazir          100.0\n",
      "1                         On the Road          100.0\n",
      "2     The Secret Life of Walter Mitty          100.0\n",
      "3         A Walk Among the Tombstones          100.0\n",
      "4                      Jurassic World          100.0\n",
      "...                               ...            ...\n",
      "1842               The Spy Gone North          100.0\n",
      "1843           How Long Will I Love U          100.0\n",
      "1844                  Helicopter Eela          100.0\n",
      "1845                      Last Letter          100.0\n",
      "1846        Burn the Stage: The Movie          100.0\n",
      "\n",
      "[1847 rows x 2 columns]\n"
     ]
    },
    {
     "name": "stderr",
     "output_type": "stream",
     "text": [
      "C:\\Users\\PC\\miniconda3\\envs\\learn-env\\lib\\site-packages\\seaborn\\distributions.py:305: UserWarning: Dataset has 0 variance; skipping density estimate.\n",
      "  warnings.warn(msg, UserWarning)\n"
     ]
    },
    {
     "data": {
      "image/png": "[encoded data removed]",
      "text/plain": [
       "<Figure size 576x432 with 1 Axes>"
      ]
     },
     "metadata": {
      "needs_background": "light"
     },
     "output_type": "display_data"
    }
   ],
   "source": [
    "# Display the profitability for each movie\n",
    "print(final_df[['primary_title', 'profitability']])\n",
    "\n",
    "# Visualize the distribution of movie profitability\n",
    "plt.figure(figsize=(8, 6))\n",
    "sns.histplot(final_df['profitability'], bins=20, kde=True)\n",
    "plt.xlabel('Profitability (%)')\n",
    "plt.ylabel('Frequency')\n",
    "plt.title('Distribution of Movie Profitability')\n",
    "plt.show()"
   ]
  },
  {
   "cell_type": "markdown",
   "metadata": {},
   "source": [
    "The code calculates and visualizes the distribution of movie profitability as the percentage difference between total gross revenue and budget for each movie in the 'final_df' DataFrame"
   ]
  },
  {
   "cell_type": "code",
   "execution_count": 330,
   "metadata": {},
   "outputs": [],
   "source": [
    "summary_df = final_df[['primary_title', 'numvotes', 'averagerating', 'domestic_gross']]"
   ]
  },
  {
   "cell_type": "code",
   "execution_count": 297,
   "metadata": {
    "scrolled": true
   },
   "outputs": [
    {
     "data": {
      "image/png": "[encoded data removed]",
      "text/plain": [
       "<Figure size 720x432 with 1 Axes>"
      ]
     },
     "metadata": {
      "needs_background": "light"
     },
     "output_type": "display_data"
    }
   ],
   "source": [
    "# Calculate the count of movies for each genre\n",
    "top_10_most_watched_genres = df['genres'].value_counts().nlargest(10)\n",
    "\n",
    "# Create a bar plot for the top 10 most watched genres\n",
    "plt.figure(figsize=(10, 6))\n",
    "top_10_most_watched_genres.plot(kind='bar', color='skyblue')\n",
    "\n",
    "# Set labels and title\n",
    "plt.xlabel('Genres')\n",
    "plt.ylabel('Number of Movies')\n",
    "plt.title('Top 10 Most Watched Genres')\n",
    "\n",
    "# Show the plot\n",
    "plt.tight_layout()\n",
    "plt.show()"
   ]
  },
  {
   "cell_type": "code",
   "execution_count": 333,
   "metadata": {
    "scrolled": true
   },
   "outputs": [
    {
     "data": {
      "image/png": "[encoded data removed]",
      "text/plain": [
       "<Figure size 720x432 with 1 Axes>"
      ]
     },
     "metadata": {
      "needs_background": "light"
     },
     "output_type": "display_data"
    }
   ],
   "source": [
    "# Create a bar plot to display the recommendations\n",
    "recommendations = ['Focus on High-Performing Genres', 'Collaborate with Top Studios', 'Optimize Marketing and Distribution Strategies',\n",
    "                   'Embrace Innovation and Creativity', 'Conduct Audience Research and Feedback', 'Embrace Data-Driven Decision-Making',\n",
    "                   'Collaborate with Talented Filmmakers']\n",
    "recommendation_scores = [8, 9, 7, 6, 7, 9, 8]  # Scores (out of 10) for each recommendation (subjective ranking)\n",
    "\n",
    "plt.figure(figsize=(10, 6))\n",
    "plt.barh(recommendations, recommendation_scores, color='royalblue')\n",
    "\n",
    "# Set labels and title\n",
    "plt.xlabel('Recommendation Score (out of 10)')\n",
    "plt.ylabel('Recommendation')\n",
    "plt.title('Recommendations for Microsoft\\'s New Movie Studio')\n",
    "\n",
    "# Show the plot\n",
    "plt.tight_layout()\n",
    "plt.show()"
   ]
  },
  {
   "cell_type": "markdown",
   "metadata": {},
   "source": [
    "The bar plot displays recommendations and their scores (out of 10) for Microsoft's new movie studio, aiding in decision prioritization and resource allocation. Decision-makers can focus on high-scoring recommendations to enhance studio success and competitiveness. The visualization serves as a valuable reference for future planning and continuous improvement in the dynamic movie industry."
   ]
  },
  {
   "cell_type": "markdown",
   "metadata": {},
   "source": [
    "### 8.0 Limitations\n",
    "The analysis has identified important limitations to be considered for future decision-making and market predictions. The reliance on historical movie data may not fully capture real-time market dynamics and emerging trends, emphasizing the need for continuous monitoring and timely data updates. The exclusion of external factors like competing movie releases and economic events can impact the accuracy of insights and predictive models. Addressing missing data in columns such as 'foreign_gross' and 'runtime_minutes' through data imputation or alternative sources can improve the analysis's reliability. Additionally, acknowledging that predictive models are based on historical data and may not account for future movie trends, adopting a proactive approach to analyze emerging trends and incorporating new data can enhance the models' adaptability and predictive capabilities. By actively mitigating these limitations, Microsoft's movie studio can make more informed and agile decisions, ensuring long-term viability and success in the dynamic and competitive movie industry.\n",
    "\n",
    "\n",
    "\n",
    "\n"
   ]
  },
  {
   "cell_type": "markdown",
   "metadata": {},
   "source": [
    "### 10.0 Conclusions:\n",
    "In conclusion, the project's analysis highlights the importance of leveraging data-driven insights to make informed decisions for Microsoft's new movie studio. By identifying high-performing genres and collaborating with top studios, the studio can strategically position itself for commercial success. Continuous monitoring of market trends and audience preferences will enable proactive adaptation to dynamic market conditions, while predictive modeling will facilitate accurate market predictions for optimized resource allocation and competitive market positioning. Embracing these strategies will empower the studio to stay ahead of industry trends, maximize audience appeal, and drive long-term success in the competitive and ever-changing movie landscape.\n",
    "\n"
   ]
  },
  {
   "cell_type": "markdown",
   "metadata": {},
   "source": [
    "### 9.0.Recommendation: \n",
    "\n",
    "Based on the research analysis, I recommend Microsoft's new movie studio to focus on high-performing genres, collaborate with top studios to leverage expertise, and embrace data-driven decision-making to forecast box office performance and optimize budgets. Additionally, the studio should tailor content and marketing strategies for international audiences, promoting creativity, conducting audience research, and collaborating with talented filmmakers. Implementing these recommendations will strategically position the studio in the competitive entertainment industry, create compelling content with global appeal, and increase the chances of commercial success. Continuously monitoring market trends and audience preferences will ensure the studio remains adaptable and competitive in the dynamic movie landscape, driving long-term viability and impact.\n",
    "\n",
    "example of the studios are;\n",
    "Action\n",
    "Comedy\n",
    "Drama\n",
    "Adventure\n",
    "Thriller\n",
    "Horror\n",
    "Romance\n",
    "Sci-Fi\n",
    "Crime\n",
    "Fantasy\n",
    "These genres have demonstrated the highest performance based on the number of movies produced, indicating their popularity among audiences and potential for box office success."
   ]
  }
 ],
 "metadata": {
  "kernelspec": {
   "display_name": "Python 3",
   "language": "python",
   "name": "python3"
  },
  "language_info": {
   "codemirror_mode": {
    "name": "ipython",
    "version": 3
   },
   "file_extension": ".py",
   "mimetype": "text/x-python",
   "name": "python",
   "nbconvert_exporter": "python",
   "pygments_lexer": "ipython3",
   "version": "3.8.5"
  }
 },
 "nbformat": 4,
 "nbformat_minor": 2
}
